{
 "cells": [
  {
   "cell_type": "code",
   "execution_count": 19,
   "metadata": {},
   "outputs": [
    {
     "name": "stdout",
     "output_type": "stream",
     "text": [
      "C:\\Users\\noaca\\OneDrive\\Escritorio\\NOA\\COLE\\Cole 21-22\\Web Semántica, Linked Data y Grafos de Conocimiento\\HandsOn\\Assignment 5\n"
     ]
    }
   ],
   "source": [
    "cd \"https://raw.githubusercontent.com/AndreaCimminoArriaga/LinkedData2021-2022/main/Assignment4/HandsOn/Group02/rdf/\""
   ]
  },
  {
   "cell_type": "code",
   "execution_count": 20,
   "metadata": {},
   "outputs": [
    {
     "data": {
      "text/plain": [
       "<Graph identifier=N9eeec1649efa474ab8fe1e075de9fd96 (<class 'rdflib.graph.Graph'>)>"
      ]
     },
     "execution_count": 20,
     "metadata": {},
     "output_type": "execute_result"
    }
   ],
   "source": [
    "from rdflib import Graph, Namespace, Literal\n",
    "from rdflib.namespace import RDF, RDFS\n",
    "g = Graph()\n",
    "g.namespace_manager.bind('our', Namespace(\"http://www.consumo_madrid.com/ontology#\"), override=False)\n",
    "g.namespace_manager.bind('rr', Namespace(\"http://www.w3.org/ns/r2rml#\"), override=False)\n",
    "g.namespace_manager.bind('rdf', Namespace(\"http://www.w3.org/1999/02/22-rdf-syntax-ns#type\"), override=False)\n",
    "g.namespace_manager.bind('owl', Namespace(\"http://www.w3.org/2002/07/owl#\"), override=False)\n",
    "g.namespace_manager.bind('rdfs', Namespace(\"http://www.w3.org/2000/01/rdf-schema#\"), override=False)\n",
    "# g.namespace_manager.bind('vcard', Namespace(\"http://www.w3.org/2001/vcard-rdf/3.0#\"), override=False)\n",
    "g.parse(\"output-with-links.ttl\", format=\"ttl\")"
   ]
  },
  {
   "cell_type": "code",
   "execution_count": 21,
   "metadata": {},
   "outputs": [],
   "source": [
    "our = Namespace(\"http://www.consumo_madrid.com/ontology#\")\n",
    "rr = Namespace (\"http://www.w3.org/ns/r2rml#\")\n",
    "rdf = Namespace (\"http://www.w3.org/1999/02/22-rdf-syntax-ns#type\")\n",
    "owl = Namespace (\"http://www.w3.org/2002/07/owl#\")\n",
    "rdfs = Namespace (\"http://www.w3.org/2000/01/rdf-schema#\")\n",
    "\n",
    "from rdflib.plugins.sparql import prepareQuery\n"
   ]
  },
  {
   "cell_type": "code",
   "execution_count": 22,
   "metadata": {},
   "outputs": [
    {
     "name": "stdout",
     "output_type": "stream",
     "text": [
      "(rdflib.term.URIRef('http://www.consumo_madrid.com/ontology/Building/2258'), rdflib.term.URIRef('http://dbpedia.org/resource/Carabanchel'))\n",
      "(rdflib.term.URIRef('http://www.consumo_madrid.com/ontology/Building/2178'), rdflib.term.URIRef('http://dbpedia.org/resource/Latina_%28Madrid%29'))\n",
      "(rdflib.term.URIRef('http://www.consumo_madrid.com/ontology/Building/2096'), rdflib.term.URIRef('http://dbpedia.org/resource/Retiro_%28Madrid%29'))\n",
      "(rdflib.term.URIRef('http://www.consumo_madrid.com/ontology/Building/2096'), rdflib.term.URIRef('http://dbpedia.org/resource/Usera'))\n",
      "(rdflib.term.URIRef('http://www.consumo_madrid.com/ontology/Building/1208'), rdflib.term.URIRef('http://dbpedia.org/resource/Villa_de_Vallecas'))\n",
      "(rdflib.term.URIRef('http://www.consumo_madrid.com/ontology/Building/1526'), rdflib.term.URIRef('http://dbpedia.org/resource/San_Blas-Canillejas'))\n"
     ]
    }
   ],
   "source": [
    "# 1 Devuelve los IRIs de los edificios y sus respectivos distritos. \n",
    "\n",
    "q1 = prepareQuery(\n",
    "'''\n",
    "SELECT DISTINCT ?z ?x WHERE {?z a our:Building; our:isFromDistrict ?t. ?t owl:sameAs ?x } \n",
    "LIMIT 6\n",
    "''', \n",
    "\n",
    "initNs = { \"our\": our, \"rr\": rr, \"rdf\":rdf, \"owl\":owl, \"rdfs\":rdfs}\n",
    ")\n",
    "\n",
    "for r in g.query(q1):\n",
    "  print(r)"
   ]
  },
  {
   "cell_type": "code",
   "execution_count": 23,
   "metadata": {},
   "outputs": [
    {
     "name": "stdout",
     "output_type": "stream",
     "text": [
      "(rdflib.term.URIRef('http://www.w3.org/1999/02/22-rdf-syntax-ns#type'),)\n",
      "(rdflib.term.URIRef('http://www.consumo_madrid.com/ontology#hasId'),)\n",
      "(rdflib.term.URIRef('http://www.w3.org/2003/01/geo/wgs84_pos#lat'),)\n",
      "(rdflib.term.URIRef('http://www.w3.org/2003/01/geo/wgs84_pos#long'),)\n",
      "(rdflib.term.URIRef('http://www.consumo_madrid.com/ontology#buildingName'),)\n",
      "(rdflib.term.URIRef('http://www.consumo_madrid.com/ontology#buildingType'),)\n"
     ]
    }
   ],
   "source": [
    "# 2 Devuelve los Data Properties y Object Properties de la clase Building.\n",
    "q2 = prepareQuery(\n",
    "'''\n",
    "  SELECT DISTINCT ?x WHERE {?y a our:Building; ?x ?z.} \n",
    "  LIMIT 6\n",
    "''', \n",
    "\n",
    "initNs = { \"our\": our, \"rr\": rr, \"rdf\":rdf, \"owl\":owl, \"rdfs\":rdfs}\n",
    ")\n",
    "\n",
    "for r in g.query(q2):\n",
    "  print(r)"
   ]
  },
  {
   "cell_type": "code",
   "execution_count": 24,
   "metadata": {},
   "outputs": [
    {
     "name": "stdout",
     "output_type": "stream",
     "text": [
      "(rdflib.term.Literal('97', datatype=rdflib.term.URIRef('http://www.w3.org/2001/XMLSchema#integer')),)\n"
     ]
    }
   ],
   "source": [
    "# 3 Cuenta el número de edificios.\n",
    "q3 = prepareQuery(\n",
    "'''\n",
    "  SELECT (COUNT(DISTINCT ?x) AS ?count) WHERE\t{?x a our:Building }\n",
    "  LIMIT 6\n",
    "''', \n",
    "\n",
    "initNs = { \"our\": our, \"rr\": rr, \"rdf\":rdf, \"owl\":owl, \"rdfs\":rdfs}\n",
    ")\n",
    "\n",
    "for r in g.query(q3):\n",
    "  print(r)"
   ]
  },
  {
   "cell_type": "code",
   "execution_count": 25,
   "metadata": {},
   "outputs": [
    {
     "name": "stdout",
     "output_type": "stream",
     "text": [
      "(rdflib.term.URIRef('http://www.consumo_madrid.com/ontology#Building'),)\n",
      "(rdflib.term.URIRef('http://www.consumo_madrid.com/ontology#Energy_use'),)\n",
      "(rdflib.term.URIRef('http://www.consumo_madrid.com/ontology#District'),)\n",
      "(rdflib.term.URIRef('http://www.consumo_madrid.com/ontology#Neighborhood'),)\n"
     ]
    }
   ],
   "source": [
    "# 4 Obtiene todas las clases.\n",
    "q4 = prepareQuery(\n",
    "'''\n",
    "  SELECT DISTINCT ?Class WHERE\t{?x a ?Class}\n",
    "  LIMIT 6\n",
    "''', \n",
    "\n",
    "initNs = { \"our\": our, \"rr\": rr, \"rdf\":rdf, \"owl\":owl, \"rdfs\":rdfs}\n",
    ")\n",
    "\n",
    "for r in g.query(q4):\n",
    "  print(r)"
   ]
  }
 ],
 "metadata": {
  "interpreter": {
   "hash": "9bb6a5dc411ffb438a4323ddaa0817be10f796b91d6e389247a247eae90e64de"
  },
  "kernelspec": {
   "display_name": "Python 3.9.7 64-bit",
   "language": "python",
   "name": "python3"
  },
  "language_info": {
   "codemirror_mode": {
    "name": "ipython",
    "version": 3
   },
   "file_extension": ".py",
   "mimetype": "text/x-python",
   "name": "python",
   "nbconvert_exporter": "python",
   "pygments_lexer": "ipython3",
   "version": "3.9.7"
  },
  "orig_nbformat": 4
 },
 "nbformat": 4,
 "nbformat_minor": 2
}
