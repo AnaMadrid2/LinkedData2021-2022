{
 "cells": [
  {
   "cell_type": "markdown",
   "metadata": {
    "id": "wIhJ69byU2Ad"
   },
   "source": [
    "**Task 09: Data linking**"
   ]
  },
  {
   "cell_type": "code",
   "execution_count": 31,
   "metadata": {
    "colab": {
     "base_uri": "https://localhost:8080/"
    },
    "executionInfo": {
     "elapsed": 3174,
     "status": "ok",
     "timestamp": 1636908121485,
     "user": {
      "displayName": "Antonio Revi",
      "photoUrl": "https://lh3.googleusercontent.com/a/default-user=s64",
      "userId": "17935187345152497085"
     },
     "user_tz": -60
    },
    "id": "0sQG2Y915Isp",
    "outputId": "a36ea9c6-116e-4586-87c1-d1018bb89f38"
   },
   "outputs": [
    {
     "name": "stdout",
     "output_type": "stream",
     "text": [
      "Requirement already satisfied: rdflib in /usr/local/lib/python3.7/dist-packages (6.0.2)\n",
      "Requirement already satisfied: isodate in /usr/local/lib/python3.7/dist-packages (from rdflib) (0.6.0)\n",
      "Requirement already satisfied: pyparsing in /usr/local/lib/python3.7/dist-packages (from rdflib) (2.4.7)\n",
      "Requirement already satisfied: setuptools in /usr/local/lib/python3.7/dist-packages (from rdflib) (57.4.0)\n",
      "Requirement already satisfied: six in /usr/local/lib/python3.7/dist-packages (from isodate->rdflib) (1.15.0)\n"
     ]
    }
   ],
   "source": [
    "!pip install rdflib\n",
    "github_storage = \"https://raw.githubusercontent.com/AndreaCimminoArriaga/LinkedData2021-2022/main/Assignment4/\""
   ]
  },
  {
   "cell_type": "code",
   "execution_count": 32,
   "metadata": {
    "executionInfo": {
     "elapsed": 140,
     "status": "ok",
     "timestamp": 1636908121488,
     "user": {
      "displayName": "Antonio Revi",
      "photoUrl": "https://lh3.googleusercontent.com/a/default-user=s64",
      "userId": "17935187345152497085"
     },
     "user_tz": -60
    },
    "id": "Jb4QeLue5NLr"
   },
   "outputs": [],
   "source": [
    "from rdflib import Graph, Namespace, Literal, URIRef\n",
    "g1 = Graph()\n",
    "g2 = Graph()\n",
    "g3 = Graph()\n",
    "g1.parse(github_storage+\"resources/data03.rdf\", format=\"xml\")\n",
    "g2.parse(github_storage+\"resources/data04.rdf\", format=\"xml\")\n",
    "owl = Namespace('http://www.w3.org/2002/07/owl#')"
   ]
  },
  {
   "cell_type": "markdown",
   "metadata": {
    "id": "5wfBZiQSU827"
   },
   "source": [
    "Busca individuos en los dos grafos y enlázalos mediante la propiedad OWL:sameAs, inserta estas coincidencias en g3. Consideramos dos individuos iguales si tienen el mismo apodo y nombre de familia. Ten en cuenta que las URI no tienen por qué ser iguales para un mismo individuo en los dos grafos."
   ]
  },
  {
   "cell_type": "code",
   "execution_count": 33,
   "metadata": {
    "colab": {
     "base_uri": "https://localhost:8080/"
    },
    "executionInfo": {
     "elapsed": 138,
     "status": "ok",
     "timestamp": 1636908121490,
     "user": {
      "displayName": "Antonio Revi",
      "photoUrl": "https://lh3.googleusercontent.com/a/default-user=s64",
      "userId": "17935187345152497085"
     },
     "user_tz": -60
    },
    "id": "mW_91yifwOtD",
    "outputId": "0fd711d5-913d-4da4-864c-51a1459c7d22"
   },
   "outputs": [
    {
     "name": "stdout",
     "output_type": "stream",
     "text": [
      "(rdflib.term.URIRef('http://www.w3.org/2001/vcard-rdf/3.0/FN'), rdflib.term.URIRef('http://www.w3.org/1999/02/22-rdf-syntax-ns#type'), rdflib.term.URIRef('http://www.w3.org/2000/01/rdf-schema#Datatype'))\n",
      "(rdflib.term.URIRef('http://data.three.org#SaraJones'), rdflib.term.URIRef('http://www.w3.org/2001/vcard-rdf/3.0#Family'), rdflib.term.Literal('Jones', datatype=rdflib.term.URIRef('http://www.w3.org/2001/XMLSchema#string')))\n",
      "(rdflib.term.URIRef('http://data.three.org#JohnDoe'), rdflib.term.URIRef('http://www.w3.org/1999/02/22-rdf-syntax-ns#type'), rdflib.term.URIRef('http://data.three.org#Person'))\n",
      "(rdflib.term.URIRef('http://data.three.org#JohnSmith'), rdflib.term.URIRef('http://www.w3.org/2001/vcard-rdf/3.0#FN'), rdflib.term.Literal('John Smith', datatype=rdflib.term.URIRef('http://www.w3.org/2001/XMLSchema#string')))\n",
      "(rdflib.term.URIRef('http://data.three.org#HarryPotter'), rdflib.term.URIRef('http://www.w3.org/2001/vcard-rdf/3.0#FN'), rdflib.term.Literal('Harry Potter', datatype=rdflib.term.URIRef('http://www.w3.org/2001/XMLSchema#string')))\n",
      "(rdflib.term.URIRef('http://www.w3.org/2001/vcard-rdf/3.0/Given'), rdflib.term.URIRef('http://www.w3.org/1999/02/22-rdf-syntax-ns#type'), rdflib.term.URIRef('http://www.w3.org/2000/01/rdf-schema#Datatype'))\n",
      "(rdflib.term.URIRef('http://data.three.org#JohnDoe'), rdflib.term.URIRef('http://www.w3.org/2001/vcard-rdf/3.0#Family'), rdflib.term.Literal('Doe', datatype=rdflib.term.URIRef('http://www.w3.org/2001/XMLSchema#string')))\n",
      "(rdflib.term.URIRef('http://data.three.org#JohnSmith'), rdflib.term.URIRef('http://www.w3.org/2001/vcard-rdf/3.0#Given'), rdflib.term.Literal('John', datatype=rdflib.term.URIRef('http://www.w3.org/2001/XMLSchema#string')))\n",
      "(rdflib.term.URIRef('http://data.three.org#JohnDoe'), rdflib.term.URIRef('http://www.w3.org/2001/vcard-rdf/3.0#Given'), rdflib.term.Literal('John', datatype=rdflib.term.URIRef('http://www.w3.org/2001/XMLSchema#string')))\n",
      "(rdflib.term.URIRef('http://www.w3.org/2001/vcard-rdf/3.0/FN'), rdflib.term.URIRef('http://www.w3.org/2000/01/rdf-schema#range'), rdflib.term.URIRef('http://www.w3.org/2001/XMLSchema#string'))\n",
      "(rdflib.term.URIRef('http://data.three.org#SaraJones'), rdflib.term.URIRef('http://www.w3.org/2001/vcard-rdf/3.0#Given'), rdflib.term.Literal('Sara', datatype=rdflib.term.URIRef('http://www.w3.org/2001/XMLSchema#string')))\n",
      "(rdflib.term.URIRef('http://data.three.org#JohnDoe'), rdflib.term.URIRef('http://www.w3.org/2001/vcard-rdf/3.0#FN'), rdflib.term.Literal('John Doe', datatype=rdflib.term.URIRef('http://www.w3.org/2001/XMLSchema#string')))\n",
      "(rdflib.term.URIRef('http://data.three.org#SaraJones'), rdflib.term.URIRef('http://www.w3.org/2001/vcard-rdf/3.0#FN'), rdflib.term.Literal('Sara Jones', datatype=rdflib.term.URIRef('http://www.w3.org/2001/XMLSchema#string')))\n",
      "(rdflib.term.URIRef('http://data.three.org#HarryPotter'), rdflib.term.URIRef('http://www.w3.org/1999/02/22-rdf-syntax-ns#type'), rdflib.term.URIRef('http://data.three.org#Person'))\n",
      "(rdflib.term.URIRef('http://www.w3.org/2001/vcard-rdf/3.0/Given'), rdflib.term.URIRef('http://www.w3.org/2000/01/rdf-schema#range'), rdflib.term.URIRef('http://www.w3.org/2001/XMLSchema#string'))\n",
      "(rdflib.term.URIRef('http://data.three.org#SaraJones'), rdflib.term.URIRef('http://www.w3.org/1999/02/22-rdf-syntax-ns#type'), rdflib.term.URIRef('http://data.three.org#Person'))\n",
      "(rdflib.term.URIRef('http://www.w3.org/2001/vcard-rdf/3.0/Family'), rdflib.term.URIRef('http://www.w3.org/1999/02/22-rdf-syntax-ns#type'), rdflib.term.URIRef('http://www.w3.org/2000/01/rdf-schema#Property'))\n",
      "(rdflib.term.URIRef('http://data.three.org#HarryPotter'), rdflib.term.URIRef('http://www.w3.org/2001/vcard-rdf/3.0#Given'), rdflib.term.Literal('Harry', datatype=rdflib.term.URIRef('http://www.w3.org/2001/XMLSchema#string')))\n",
      "(rdflib.term.URIRef('http://data.three.org#Person'), rdflib.term.URIRef('http://www.w3.org/1999/02/22-rdf-syntax-ns#type'), rdflib.term.URIRef('http://www.w3.org/2000/01/rdf-schema#Class'))\n",
      "(rdflib.term.URIRef('http://www.w3.org/2001/vcard-rdf/3.0/Family'), rdflib.term.URIRef('http://www.w3.org/2000/01/rdf-schema#range'), rdflib.term.URIRef('http://www.w3.org/2001/XMLSchema#string'))\n",
      "(rdflib.term.URIRef('http://data.three.org#JohnSmith'), rdflib.term.URIRef('http://www.w3.org/2001/vcard-rdf/3.0#Family'), rdflib.term.Literal('Smith', datatype=rdflib.term.URIRef('http://www.w3.org/2001/XMLSchema#string')))\n",
      "(rdflib.term.URIRef('http://data.three.org#JohnSmith'), rdflib.term.URIRef('http://www.w3.org/1999/02/22-rdf-syntax-ns#type'), rdflib.term.URIRef('http://data.three.org#Person'))\n"
     ]
    }
   ],
   "source": [
    "for s in g1:\n",
    "  print(s)"
   ]
  },
  {
   "cell_type": "code",
   "execution_count": 34,
   "metadata": {
    "colab": {
     "base_uri": "https://localhost:8080/"
    },
    "executionInfo": {
     "elapsed": 113,
     "status": "ok",
     "timestamp": 1636908121492,
     "user": {
      "displayName": "Antonio Revi",
      "photoUrl": "https://lh3.googleusercontent.com/a/default-user=s64",
      "userId": "17935187345152497085"
     },
     "user_tz": -60
    },
    "id": "D7pkssL3wO5y",
    "outputId": "67f7578b-71a4-49c1-87c7-72ae4276db27"
   },
   "outputs": [
    {
     "name": "stdout",
     "output_type": "stream",
     "text": [
      "(rdflib.term.URIRef('http://www.w3.org/2001/vcard-rdf/3.0/FN'), rdflib.term.URIRef('http://www.w3.org/1999/02/22-rdf-syntax-ns#type'), rdflib.term.URIRef('http://www.w3.org/2000/01/rdf-schema#Datatype'))\n",
      "(rdflib.term.URIRef('http://data.four.org#0003'), rdflib.term.URIRef('http://www.w3.org/2001/vcard-rdf/3.0#FN'), rdflib.term.Literal('Harry Potter', datatype=rdflib.term.URIRef('http://www.w3.org/2001/XMLSchema#string')))\n",
      "(rdflib.term.URIRef('http://data.four.org#0004'), rdflib.term.URIRef('http://www.w3.org/2001/vcard-rdf/3.0#FN'), rdflib.term.Literal('Tim Berners Lee', datatype=rdflib.term.URIRef('http://www.w3.org/2001/XMLSchema#string')))\n",
      "(rdflib.term.URIRef('http://data.four.org#0005'), rdflib.term.URIRef('http://www.w3.org/2001/vcard-rdf/3.0#Family'), rdflib.term.Literal('Doe', datatype=rdflib.term.URIRef('http://www.w3.org/2001/XMLSchema#string')))\n",
      "(rdflib.term.URIRef('http://data.four.org#0001'), rdflib.term.URIRef('http://www.w3.org/2001/vcard-rdf/3.0#FN'), rdflib.term.Literal('Sara Jones', datatype=rdflib.term.URIRef('http://www.w3.org/2001/XMLSchema#string')))\n",
      "(rdflib.term.URIRef('http://data.four.org#0002'), rdflib.term.URIRef('http://www.w3.org/2001/vcard-rdf/3.0#Given'), rdflib.term.Literal('Jonathan', datatype=rdflib.term.URIRef('http://www.w3.org/2001/XMLSchema#string')))\n",
      "(rdflib.term.URIRef('http://www.w3.org/2001/vcard-rdf/3.0/Given'), rdflib.term.URIRef('http://www.w3.org/1999/02/22-rdf-syntax-ns#type'), rdflib.term.URIRef('http://www.w3.org/2000/01/rdf-schema#Datatype'))\n",
      "(rdflib.term.URIRef('http://data.four.org#Person'), rdflib.term.URIRef('http://www.w3.org/1999/02/22-rdf-syntax-ns#type'), rdflib.term.URIRef('http://www.w3.org/2000/01/rdf-schema#Class'))\n",
      "(rdflib.term.URIRef('http://data.four.org#0005'), rdflib.term.URIRef('http://www.w3.org/1999/02/22-rdf-syntax-ns#type'), rdflib.term.URIRef('http://data.four.org#Person'))\n",
      "(rdflib.term.URIRef('http://www.w3.org/2001/vcard-rdf/3.0/FN'), rdflib.term.URIRef('http://www.w3.org/2000/01/rdf-schema#range'), rdflib.term.URIRef('http://www.w3.org/2001/XMLSchema#string'))\n",
      "(rdflib.term.URIRef('http://data.four.org#0002'), rdflib.term.URIRef('http://www.w3.org/2001/vcard-rdf/3.0#Family'), rdflib.term.Literal('Smith', datatype=rdflib.term.URIRef('http://www.w3.org/2001/XMLSchema#string')))\n",
      "(rdflib.term.URIRef('http://data.four.org#0002'), rdflib.term.URIRef('http://www.w3.org/2001/vcard-rdf/3.0#FN'), rdflib.term.Literal('John Smith', datatype=rdflib.term.URIRef('http://www.w3.org/2001/XMLSchema#string')))\n",
      "(rdflib.term.URIRef('http://data.four.org#0005'), rdflib.term.URIRef('http://www.w3.org/2001/vcard-rdf/3.0#Given'), rdflib.term.Literal('John', datatype=rdflib.term.URIRef('http://www.w3.org/2001/XMLSchema#string')))\n",
      "(rdflib.term.URIRef('http://data.four.org#0005'), rdflib.term.URIRef('http://www.w3.org/2001/vcard-rdf/3.0#FN'), rdflib.term.Literal('John Doe', datatype=rdflib.term.URIRef('http://www.w3.org/2001/XMLSchema#string')))\n",
      "(rdflib.term.URIRef('http://data.four.org#0001'), rdflib.term.URIRef('http://www.w3.org/1999/02/22-rdf-syntax-ns#type'), rdflib.term.URIRef('http://data.four.org#Person'))\n",
      "(rdflib.term.URIRef('http://data.four.org#0003'), rdflib.term.URIRef('http://www.w3.org/2001/vcard-rdf/3.0#Family'), rdflib.term.Literal('Potter', datatype=rdflib.term.URIRef('http://www.w3.org/2001/XMLSchema#string')))\n",
      "(rdflib.term.URIRef('http://data.four.org#0001'), rdflib.term.URIRef('http://www.w3.org/2001/vcard-rdf/3.0#Family'), rdflib.term.Literal('Jones', datatype=rdflib.term.URIRef('http://www.w3.org/2001/XMLSchema#string')))\n",
      "(rdflib.term.URIRef('http://www.w3.org/2001/vcard-rdf/3.0/Given'), rdflib.term.URIRef('http://www.w3.org/2000/01/rdf-schema#range'), rdflib.term.URIRef('http://www.w3.org/2001/XMLSchema#string'))\n",
      "(rdflib.term.URIRef('http://data.four.org#0004'), rdflib.term.URIRef('http://www.w3.org/2001/vcard-rdf/3.0#Family'), rdflib.term.Literal('Berners Lee', datatype=rdflib.term.URIRef('http://www.w3.org/2001/XMLSchema#string')))\n",
      "(rdflib.term.URIRef('http://data.four.org#0002'), rdflib.term.URIRef('http://www.w3.org/1999/02/22-rdf-syntax-ns#type'), rdflib.term.URIRef('http://data.four.org#Person'))\n",
      "(rdflib.term.URIRef('http://data.four.org#0003'), rdflib.term.URIRef('http://www.w3.org/1999/02/22-rdf-syntax-ns#type'), rdflib.term.URIRef('http://data.four.org#Person'))\n",
      "(rdflib.term.URIRef('http://www.w3.org/2001/vcard-rdf/3.0/Family'), rdflib.term.URIRef('http://www.w3.org/1999/02/22-rdf-syntax-ns#type'), rdflib.term.URIRef('http://www.w3.org/2000/01/rdf-schema#Property'))\n",
      "(rdflib.term.URIRef('http://data.four.org#0003'), rdflib.term.URIRef('http://www.w3.org/2001/vcard-rdf/3.0#Given'), rdflib.term.Literal('Harry', datatype=rdflib.term.URIRef('http://www.w3.org/2001/XMLSchema#string')))\n",
      "(rdflib.term.URIRef('http://data.four.org#0004'), rdflib.term.URIRef('http://www.w3.org/2001/vcard-rdf/3.0#Given'), rdflib.term.Literal('Tim', datatype=rdflib.term.URIRef('http://www.w3.org/2001/XMLSchema#string')))\n",
      "(rdflib.term.URIRef('http://data.four.org#0001'), rdflib.term.URIRef('http://www.w3.org/2001/vcard-rdf/3.0#Given'), rdflib.term.Literal('Sara', datatype=rdflib.term.URIRef('http://www.w3.org/2001/XMLSchema#string')))\n",
      "(rdflib.term.URIRef('http://www.w3.org/2001/vcard-rdf/3.0/Family'), rdflib.term.URIRef('http://www.w3.org/2000/01/rdf-schema#range'), rdflib.term.URIRef('http://www.w3.org/2001/XMLSchema#string'))\n",
      "(rdflib.term.URIRef('http://data.four.org#0004'), rdflib.term.URIRef('http://www.w3.org/1999/02/22-rdf-syntax-ns#type'), rdflib.term.URIRef('http://data.four.org#Person'))\n"
     ]
    }
   ],
   "source": [
    "for s in g2:\n",
    "  print(s)"
   ]
  },
  {
   "cell_type": "code",
   "execution_count": 35,
   "metadata": {
    "colab": {
     "base_uri": "https://localhost:8080/"
    },
    "executionInfo": {
     "elapsed": 71,
     "status": "ok",
     "timestamp": 1636908121495,
     "user": {
      "displayName": "Antonio Revi",
      "photoUrl": "https://lh3.googleusercontent.com/a/default-user=s64",
      "userId": "17935187345152497085"
     },
     "user_tz": -60
    },
    "id": "poYscHTPv9rU",
    "outputId": "af7b7668-3cf0-4413-9e2a-e1b2a0fc9da3"
   },
   "outputs": [
    {
     "name": "stdout",
     "output_type": "stream",
     "text": [
      "(rdflib.term.URIRef('http://data.three.org#SaraJones'), rdflib.term.Literal('Sara', datatype=rdflib.term.URIRef('http://www.w3.org/2001/XMLSchema#string')), rdflib.term.Literal('Jones', datatype=rdflib.term.URIRef('http://www.w3.org/2001/XMLSchema#string')))\n",
      "(rdflib.term.URIRef('http://data.three.org#JohnSmith'), rdflib.term.Literal('John', datatype=rdflib.term.URIRef('http://www.w3.org/2001/XMLSchema#string')), rdflib.term.Literal('Smith', datatype=rdflib.term.URIRef('http://www.w3.org/2001/XMLSchema#string')))\n",
      "(rdflib.term.URIRef('http://data.three.org#JohnDoe'), rdflib.term.Literal('John', datatype=rdflib.term.URIRef('http://www.w3.org/2001/XMLSchema#string')), rdflib.term.Literal('Doe', datatype=rdflib.term.URIRef('http://www.w3.org/2001/XMLSchema#string')))\n"
     ]
    }
   ],
   "source": [
    "from rdflib.plugins.sparql import prepareQuery\n",
    "\n",
    "\n",
    "VCARD = Namespace(\"http://www.w3.org/2001/vcard-rdf/3.0#\")\n",
    "ns1 = Namespace(\"http://data.three.org#\")\n",
    "RDF = Namespace('http://www.w3.org/1999/02/22-rdf-syntax-ns#')\n",
    "RDFS = Namespace('http://www.w3.org/2000/01/rdf-schema#')\n",
    "\n",
    "\n",
    "q1 = prepareQuery('''\n",
    "  SELECT \n",
    "    ?Subject ?Given ?Family\n",
    "  WHERE { \n",
    "    ?Subject RDF:type ns:Person.\n",
    "    ?Subject vcard:Given ?Given.\n",
    "    ?Subject vcard:Family ?Family.\n",
    "    \n",
    "  }\n",
    "  ''',\n",
    "  initNs = { \"ns\": ns1, 'vcard':VCARD, 'RDF': RDF}\n",
    ")\n",
    "\n",
    "graph1=[i for i in g1.query(q1)]\n",
    "for i in graph1:\n",
    "  print(i)"
   ]
  },
  {
   "cell_type": "code",
   "execution_count": 36,
   "metadata": {
    "colab": {
     "base_uri": "https://localhost:8080/"
    },
    "executionInfo": {
     "elapsed": 250,
     "status": "ok",
     "timestamp": 1636908121699,
     "user": {
      "displayName": "Antonio Revi",
      "photoUrl": "https://lh3.googleusercontent.com/a/default-user=s64",
      "userId": "17935187345152497085"
     },
     "user_tz": -60
    },
    "id": "vx2n2aQ61BxL",
    "outputId": "e95c6ecc-2f16-45d0-c4be-f72f98194e1d"
   },
   "outputs": [
    {
     "name": "stdout",
     "output_type": "stream",
     "text": [
      "(rdflib.term.URIRef('http://data.four.org#0001'), rdflib.term.Literal('Sara', datatype=rdflib.term.URIRef('http://www.w3.org/2001/XMLSchema#string')), rdflib.term.Literal('Jones', datatype=rdflib.term.URIRef('http://www.w3.org/2001/XMLSchema#string')))\n",
      "(rdflib.term.URIRef('http://data.four.org#0002'), rdflib.term.Literal('Jonathan', datatype=rdflib.term.URIRef('http://www.w3.org/2001/XMLSchema#string')), rdflib.term.Literal('Smith', datatype=rdflib.term.URIRef('http://www.w3.org/2001/XMLSchema#string')))\n",
      "(rdflib.term.URIRef('http://data.four.org#0003'), rdflib.term.Literal('Harry', datatype=rdflib.term.URIRef('http://www.w3.org/2001/XMLSchema#string')), rdflib.term.Literal('Potter', datatype=rdflib.term.URIRef('http://www.w3.org/2001/XMLSchema#string')))\n",
      "(rdflib.term.URIRef('http://data.four.org#0004'), rdflib.term.Literal('Tim', datatype=rdflib.term.URIRef('http://www.w3.org/2001/XMLSchema#string')), rdflib.term.Literal('Berners Lee', datatype=rdflib.term.URIRef('http://www.w3.org/2001/XMLSchema#string')))\n",
      "(rdflib.term.URIRef('http://data.four.org#0005'), rdflib.term.Literal('John', datatype=rdflib.term.URIRef('http://www.w3.org/2001/XMLSchema#string')), rdflib.term.Literal('Doe', datatype=rdflib.term.URIRef('http://www.w3.org/2001/XMLSchema#string')))\n"
     ]
    }
   ],
   "source": [
    "from rdflib.plugins.sparql import prepareQuery\n",
    "\n",
    "\n",
    "VCARD = Namespace(\"http://www.w3.org/2001/vcard-rdf/3.0#\")\n",
    "ns2 = Namespace(\"http://data.four.org#\")\n",
    "RDF = Namespace('http://www.w3.org/1999/02/22-rdf-syntax-ns#')\n",
    "RDFS = Namespace('http://www.w3.org/2000/01/rdf-schema#')\n",
    "\n",
    "\n",
    "q2 = prepareQuery('''\n",
    "  SELECT \n",
    "    ?Subject ?Given ?Family\n",
    "  WHERE { \n",
    "    ?Subject RDF:type ns:Person.\n",
    "    ?Subject vcard:Given ?Given.\n",
    "    ?Subject vcard:Family ?Family.\n",
    "    \n",
    "  }\n",
    "  ''',\n",
    "  initNs = { \"ns\": ns2, 'vcard':VCARD, 'RDF': RDF}\n",
    ")\n",
    "\n",
    "graph2=[j for j in g2.query(q2)]\n",
    "for j in graph2:\n",
    "  print(j)"
   ]
  },
  {
   "cell_type": "code",
   "execution_count": 37,
   "metadata": {
    "colab": {
     "base_uri": "https://localhost:8080/"
    },
    "executionInfo": {
     "elapsed": 6,
     "status": "ok",
     "timestamp": 1636908121700,
     "user": {
      "displayName": "Antonio Revi",
      "photoUrl": "https://lh3.googleusercontent.com/a/default-user=s64",
      "userId": "17935187345152497085"
     },
     "user_tz": -60
    },
    "id": "ooAOAdrBM3k7",
    "outputId": "c4596bc6-fde5-4d03-d2b4-95bd31ea32d5"
   },
   "outputs": [
    {
     "name": "stdout",
     "output_type": "stream",
     "text": [
      "http://data.three.org#SaraJones http://www.w3.org/2002/07/owl#sameAs http://data.four.org#0001\n",
      "http://data.three.org#JohnDoe http://www.w3.org/2002/07/owl#sameAs http://data.four.org#0005\n"
     ]
    }
   ],
   "source": [
    "for subject1 in graph1:\n",
    "  for subject2 in graph2:\n",
    "    if (subject1.Given == subject2.Given  and subject1.Family == subject2.Family):\n",
    "      g3.add((subject1.Subject, owl.sameAs, subject2.Subject))\n",
    "\n",
    "for s,p,o in g3:\n",
    "  print(s,p,o)"
   ]
  }
 ],
 "metadata": {
  "colab": {
   "collapsed_sections": [],
   "name": "Task09.ipynb",
   "provenance": []
  },
  "kernelspec": {
   "display_name": "Python 3 (ipykernel)",
   "language": "python",
   "name": "python3"
  },
  "language_info": {
   "codemirror_mode": {
    "name": "ipython",
    "version": 3
   },
   "file_extension": ".py",
   "mimetype": "text/x-python",
   "name": "python",
   "nbconvert_exporter": "python",
   "pygments_lexer": "ipython3",
   "version": "3.9.7"
  }
 },
 "nbformat": 4,
 "nbformat_minor": 1
}
