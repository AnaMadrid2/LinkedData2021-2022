{
 "cells": [
  {
   "cell_type": "markdown",
   "metadata": {
    "colab_type": "text",
    "id": "nOOPLCHF7hLB"
   },
   "source": [
    "**Task 07: Querying RDF(s)**"
   ]
  },
  {
   "cell_type": "code",
   "execution_count": 2,
   "metadata": {
    "colab": {},
    "colab_type": "code",
    "id": "Yl9npCt8n6m-"
   },
   "outputs": [],
   "source": [
    "\n",
    "github_storage = \"https://raw.githubusercontent.com/AndreaCimminoArriaga/LinkedData2021-2022/main/Assignment4/\""
   ]
  },
  {
   "cell_type": "markdown",
   "metadata": {
    "colab_type": "text",
    "id": "XY7aPc86Bqoo"
   },
   "source": [
    "Leemos el fichero RDF de la forma que lo hemos venido haciendo"
   ]
  },
  {
   "cell_type": "code",
   "execution_count": 3,
   "metadata": {
    "colab": {},
    "colab_type": "code",
    "id": "9ERh415on7kF"
   },
   "outputs": [],
   "source": [
    "from rdflib import Graph, Namespace, Literal\n",
    "from rdflib.namespace import RDF, RDFS\n",
    "g = Graph()\n",
    "g.namespace_manager.bind('ns', Namespace(\"http://somewhere#\"), override=False)\n",
    "g.namespace_manager.bind('vcard', Namespace(\"http://www.w3.org/2001/vcard-rdf/3.0#\"), override=False)\n",
    "g.parse(github_storage+\"/resources/example5.rdf\", format=\"xml\")\n",
    "ns = Namespace(\"http://somewhere#\")"
   ]
  },
  {
   "cell_type": "markdown",
   "metadata": {
    "colab_type": "text",
    "id": "qp1oe2Eddsvo"
   },
   "source": [
    "**TASK 7.1: List all subclasses of \"Person\" with RDFLib and SPARQL**"
   ]
  },
  {
   "cell_type": "code",
   "execution_count": 6,
   "metadata": {},
   "outputs": [],
   "source": [
    "for s,p,o in g.triples((None, RDFS.subClassOf, ns.Person)):\n",
    "  print(s)"
   ]
  },
  {
   "cell_type": "code",
   "execution_count": 7,
   "metadata": {},
   "outputs": [],
   "source": [
    "from rdflib.plugins.sparql import prepareQuery\n",
    "\n",
    "ns = Namespace(\"http://somewhere/#%22\")\n",
    "RDFS = Namespace('http://www.w3.org/2000/01/rdf-schema#%27')\n",
    "\n",
    "q1 = prepareQuery('''\n",
    "  SELECT \n",
    "    ?Subject\n",
    "  WHERE { \n",
    "    ?Subject RDFS:subClassOf ns:Person. \n",
    "  }\n",
    "  ''',\n",
    "  initNs = { \"ns\": ns, 'RDFS':RDFS}\n",
    ")\n",
    "\n",
    "\n",
    "for r in g.query(q1):\n",
    "  print(r)\n"
   ]
  },
  {
   "cell_type": "markdown",
   "metadata": {
    "colab_type": "text",
    "id": "gM3DASkTQQ5Y"
   },
   "source": [
    "**TASK 7.2: List all individuals of \"Person\" with RDFLib and SPARQL (remember the subClasses)**\n"
   ]
  },
  {
   "cell_type": "code",
   "execution_count": 6,
   "metadata": {},
   "outputs": [],
   "source": [
    "for s,p,o in g.triples((None, RDF.type, ns.Person)):\n",
    "    print(s)\n",
    "for s,p,o in g.triples((None, RDFS.subClassOf, ns.Person)):\n",
    "    for s,p,o in g.triples((None, RDF.type, s)):\n",
    "        print(s)"
   ]
  },
  {
   "cell_type": "code",
   "execution_count": 8,
   "metadata": {},
   "outputs": [],
   "source": [
    "from rdflib.plugins.sparql import prepareQuery\n",
    "\n",
    "ns = Namespace(\"http://somewhere/#%22\")\n",
    "RDF = Namespace(\"http://www.w3.org/1999/02/22-rdf-syntax-ns#\")\n",
    "RDFS = Namespace('http://www.w3.org/2000/01/rdf-schema#%27')\n",
    "\n",
    "q1 = prepareQuery('''\n",
    "  SELECT \n",
    "    ?Subject\n",
    "  WHERE { \n",
    "    ?Subject RDF:type ns:Person. \n",
    "    ?Subject RDFS:subClassOf ns:Person. \n",
    "  }\n",
    "  ''',\n",
    "  initNs = { \"ns\": ns, 'RDF':RDF, 'RDFS':RDFS}\n",
    ")\n",
    "\n",
    "\n",
    "for r in g.query(q1):\n",
    "  print(r)\n"
   ]
  },
  {
   "cell_type": "markdown",
   "metadata": {
    "colab_type": "text",
    "id": "MXBqtBkJd22I"
   },
   "source": [
    "**TASK 7.3: List all individuals of \"Person\" and all their properties including their class with RDFLib and SPARQL**\n"
   ]
  },
  {
   "cell_type": "code",
   "execution_count": 9,
   "metadata": {},
   "outputs": [],
   "source": [
    "for s,p,o in g.triples((None, RDF.type, ns.Person)):\n",
    "  for s2,p2,o2 in g.triples((s, None, None)):\n",
    "    print(s,p2,o2)"
   ]
  },
  {
   "cell_type": "code",
   "execution_count": 10,
   "metadata": {},
   "outputs": [],
   "source": [
    "from rdflib.plugins.sparql import prepareQuery\n",
    "\n",
    "ns = Namespace(\"http://somewhere/#%22\")\n",
    "RDF = Namespace(\"http://www.w3.org/1999/02/22-rdf-syntax-ns#\")\n",
    "RDFS = Namespace('http://www.w3.org/2000/01/rdf-schema#%27')\n",
    "\n",
    "q1 = prepareQuery('''\n",
    "  SELECT \n",
    "    ?Subject ?y ?z\n",
    "  WHERE { \n",
    "    ?Subject RDF:type ns:Person.\n",
    "    ?Subject ?y ?z. \n",
    "  }\n",
    "  ''',\n",
    "  initNs = { \"ns\": ns, 'RDF':RDF, 'RDFS':RDFS}\n",
    ")\n",
    "\n",
    "\n",
    "for r in g.query(q1):\n",
    "  print(r)\n"
   ]
  },
  {
   "cell_type": "code",
   "execution_count": null,
   "metadata": {},
   "outputs": [],
   "source": []
  }
 ],
 "metadata": {
  "colab": {
   "collapsed_sections": [],
   "name": "Task07.ipynb",
   "provenance": []
  },
  "interpreter": {
   "hash": "a1b183144bbbba3f0814d1aa90e857749e981e973b2ac6268d0a722cd975aefa"
  },
  "kernelspec": {
   "display_name": "Python 3 (ipykernel)",
   "language": "python",
   "name": "python3"
  },
  "language_info": {
   "codemirror_mode": {
    "name": "ipython",
    "version": 3
   },
   "file_extension": ".py",
   "mimetype": "text/x-python",
   "name": "python",
   "nbconvert_exporter": "python",
   "pygments_lexer": "ipython3",
   "version": "3.9.7"
  }
 },
 "nbformat": 4,
 "nbformat_minor": 1
}
