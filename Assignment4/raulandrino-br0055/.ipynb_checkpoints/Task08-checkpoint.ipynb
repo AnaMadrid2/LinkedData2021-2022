{
 "cells": [
  {
   "cell_type": "markdown",
   "metadata": {
    "id": "rb2ewz-dC6GC"
   },
   "source": [
    "**Task 08: Completing missing data**"
   ]
  },
  {
   "cell_type": "code",
   "execution_count": 1,
   "metadata": {
    "colab": {
     "base_uri": "https://localhost:8080/"
    },
    "id": "0sQG2Y915Isp",
    "outputId": "25fbee80-78e2-419e-80fe-1e06f24cefdf"
   },
   "outputs": [
    {
     "name": "stdout",
     "output_type": "stream",
     "text": [
      "Requirement already satisfied: rdflib in c:\\users\\raúl\\appdata\\local\\packages\\pythonsoftwarefoundation.python.3.9_qbz5n2kfra8p0\\localcache\\local-packages\\python39\\site-packages (6.0.2)\n",
      "Requirement already satisfied: setuptools in c:\\users\\raúl\\appdata\\local\\packages\\pythonsoftwarefoundation.python.3.9_qbz5n2kfra8p0\\localcache\\local-packages\\python39\\site-packages (from rdflib) (58.2.0)\n",
      "Requirement already satisfied: pyparsing in c:\\users\\raúl\\appdata\\local\\packages\\pythonsoftwarefoundation.python.3.9_qbz5n2kfra8p0\\localcache\\local-packages\\python39\\site-packages (from rdflib) (2.4.7)\n",
      "Requirement already satisfied: isodate in c:\\users\\raúl\\appdata\\local\\packages\\pythonsoftwarefoundation.python.3.9_qbz5n2kfra8p0\\localcache\\local-packages\\python39\\site-packages (from rdflib) (0.6.0)\n",
      "Requirement already satisfied: six in c:\\users\\raúl\\appdata\\local\\packages\\pythonsoftwarefoundation.python.3.9_qbz5n2kfra8p0\\localcache\\local-packages\\python39\\site-packages (from isodate->rdflib) (1.15.0)\n"
     ]
    },
    {
     "name": "stderr",
     "output_type": "stream",
     "text": [
      "WARNING: You are using pip version 21.2.4; however, version 21.3.1 is available.\n",
      "You should consider upgrading via the 'C:\\Users\\Raúl\\AppData\\Local\\Microsoft\\WindowsApps\\PythonSoftwareFoundation.Python.3.9_qbz5n2kfra8p0\\python.exe -m pip install --upgrade pip' command.\n"
     ]
    }
   ],
   "source": [
    "!pip install rdflib\n",
    "github_storage = \"https://raw.githubusercontent.com/AndreaCimminoArriaga/LinkedData2021-2022/main/Assignment4/\""
   ]
  },
  {
   "cell_type": "code",
   "execution_count": 2,
   "metadata": {
    "id": "Jb4QeLue5NLr"
   },
   "outputs": [],
   "source": [
    "from rdflib import Graph, Namespace, Literal, URIRef\n",
    "g1 = Graph()\n",
    "g2 = Graph()\n",
    "g1.parse(github_storage+\"resources/data01.rdf\", format=\"xml\")\n",
    "g2.parse(github_storage+\"resources/data02.rdf\", format=\"xml\")\n",
    "ns = Namespace(\"http://somewhere#\")\n",
    "vcard = Namespace(\"http://www.w3.org/2001/vcard-rdf/3.0#\")\n",
    "RDF = Namespace('http://www.w3.org/1999/02/22-rdf-syntax-ns#')\n",
    "RDFS = Namespace('http://www.w3.org/2000/01/rdf-schema#')\n",
    "data = Namespace('http://data.org#')"
   ]
  },
  {
   "cell_type": "markdown",
   "metadata": {
    "id": "kxxKghwBElOm"
   },
   "source": [
    "Tarea: lista todos los elementos de la clase Person en el primer grafo (data01.rdf) y completa los campos (given name, family name y email) que puedan faltar con los datos del segundo grafo (data02.rdf). Puedes usar consultas SPARQL o iterar el grafo, o ambas cosas."
   ]
  },
  {
   "cell_type": "code",
   "execution_count": 10,
   "metadata": {
    "colab": {
     "base_uri": "https://localhost:8080/"
    },
    "id": "9RRzgOogk16e",
    "outputId": "b631a042-bfe1-4918-c3ed-b8280e501969"
   },
   "outputs": [
    {
     "name": "stdout",
     "output_type": "stream",
     "text": [
      "http://data.org#SaraJones http://www.w3.org/1999/02/22-rdf-syntax-ns#type http://data.org#Person\n",
      "http://data.org#JohnSmith http://www.w3.org/1999/02/22-rdf-syntax-ns#type http://data.org#Person\n",
      "http://data.org#JohnDoe http://www.w3.org/1999/02/22-rdf-syntax-ns#type http://data.org#Person\n",
      "http://data.org#HarryPotter http://www.w3.org/1999/02/22-rdf-syntax-ns#type http://data.org#Person\n"
     ]
    }
   ],
   "source": [
    "for s,p,o in g1.triples((None, None, data.Person)):\n",
    "  print(s,p,o)"
   ]
  },
  {
   "cell_type": "code",
   "execution_count": 6,
   "metadata": {
    "colab": {
     "base_uri": "https://localhost:8080/"
    },
    "id": "KC7oy9x8mid-",
    "outputId": "c7693e12-c518-44d3-aedc-375785d1f2e8"
   },
   "outputs": [
    {
     "name": "stdout",
     "output_type": "stream",
     "text": [
      "http://data.org#SaraJones http://www.w3.org/2001/vcard-rdf/3.0#Given Sara\n",
      "http://data.org#JohnSmith http://www.w3.org/2001/vcard-rdf/3.0#Given John\n",
      "http://data.org#JohnDoe http://www.w3.org/2001/vcard-rdf/3.0#Given John\n",
      "http://data.org#HarryPotter http://www.w3.org/2001/vcard-rdf/3.0#Given Harry\n"
     ]
    }
   ],
   "source": [
    "for s,p,o in g1.triples((None, None, data.Person)):\n",
    "  for s1,p1,o1 in g2.triples((s,vcard.Given,None)):\n",
    "    print(s1,p1,o1)"
   ]
  },
  {
   "cell_type": "code",
   "execution_count": 7,
   "metadata": {
    "colab": {
     "base_uri": "https://localhost:8080/"
    },
    "id": "evuuMYVXpDcy",
    "outputId": "59ad3e5e-dd11-42de-c651-374b0b8ef5ca"
   },
   "outputs": [
    {
     "name": "stdout",
     "output_type": "stream",
     "text": [
      "http://data.org#SaraJones http://www.w3.org/2001/vcard-rdf/3.0#Family Jones\n",
      "http://data.org#JohnSmith http://www.w3.org/2001/vcard-rdf/3.0#Family Smith\n",
      "http://data.org#JohnDoe http://www.w3.org/2001/vcard-rdf/3.0#Family Doe\n"
     ]
    }
   ],
   "source": [
    "for s,p,o in g1.triples((None, RDF.type, data.Person)):\n",
    "  for s1,p1,o1 in g2.triples((s,vcard.Family,None)):\n",
    "    print(s1,p1,o1)"
   ]
  },
  {
   "cell_type": "code",
   "execution_count": 8,
   "metadata": {
    "colab": {
     "base_uri": "https://localhost:8080/"
    },
    "id": "sLnF1E-IpJFH",
    "outputId": "082c3ed5-1781-42df-ce67-e0e6de65cd6c"
   },
   "outputs": [
    {
     "name": "stdout",
     "output_type": "stream",
     "text": [
      "http://data.org#SaraJones http://www.w3.org/2001/vcard-rdf/3.0#Family Jones\n",
      "http://data.org#JohnSmith http://www.w3.org/2001/vcard-rdf/3.0#Family Smith\n",
      "http://data.org#JohnDoe http://www.w3.org/2001/vcard-rdf/3.0#Family Doe\n",
      "http://data.org#HarryPotter http://www.w3.org/2001/vcard-rdf/3.0#Family Potter\n"
     ]
    }
   ],
   "source": [
    "g2.add((data.HarryPotter, vcard.Family, Literal('Potter')))\n",
    "for s,p,o in g1.triples((None, RDF.type, data.Person)):\n",
    "  for s1,p1,o1 in g2.triples((s,vcard.Family,None)):\n",
    "    print(s1,p1,o1)"
   ]
  },
  {
   "cell_type": "code",
   "execution_count": 9,
   "metadata": {
    "colab": {
     "base_uri": "https://localhost:8080/"
    },
    "id": "8ctrktxWpf5m",
    "outputId": "5a5f96ac-6ee8-4c47-b205-b15c97c3c6b0"
   },
   "outputs": [
    {
     "name": "stdout",
     "output_type": "stream",
     "text": [
      "http://data.org#SaraJones http://www.w3.org/2001/vcard-rdf/3.0#EMAIL sara.jones@data.org\n",
      "http://data.org#JohnSmith http://www.w3.org/2001/vcard-rdf/3.0#EMAIL j.smith@data.org\n",
      "http://data.org#JohnDoe http://www.w3.org/2001/vcard-rdf/3.0#EMAIL doe@data.org\n",
      "http://data.org#HarryPotter http://www.w3.org/2001/vcard-rdf/3.0#EMAIL hpotter@hogwarts.org\n"
     ]
    }
   ],
   "source": [
    "for s,p,o in g1.triples((None, RDF.type, data.Person)):\n",
    "  for s1,p1,o1 in g2.triples((s,vcard.EMAIL,None)):\n",
    "    print(s1,p1,o1)"
   ]
  }
 ],
 "metadata": {
  "colab": {
   "collapsed_sections": [],
   "name": "Task08.ipynb",
   "provenance": []
  },
  "kernelspec": {
   "display_name": "Python 3 (ipykernel)",
   "language": "python",
   "name": "python3"
  },
  "language_info": {
   "codemirror_mode": {
    "name": "ipython",
    "version": 3
   },
   "file_extension": ".py",
   "mimetype": "text/x-python",
   "name": "python",
   "nbconvert_exporter": "python",
   "pygments_lexer": "ipython3",
   "version": "3.9.7"
  }
 },
 "nbformat": 4,
 "nbformat_minor": 1
}
