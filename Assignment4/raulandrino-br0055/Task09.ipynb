{
 "cells": [
  {
   "cell_type": "markdown",
   "metadata": {
    "colab_type": "text",
    "id": "wIhJ69byU2Ad"
   },
   "source": [
    "**Task 09: Data linking**"
   ]
  },
  {
   "cell_type": "code",
   "execution_count": 220,
   "metadata": {
    "colab": {},
    "colab_type": "code",
    "id": "0sQG2Y915Isp"
   },
   "outputs": [
    {
     "name": "stdout",
     "output_type": "stream",
     "text": [
      "Requirement already satisfied: rdflib in c:\\users\\raúl\\appdata\\local\\packages\\pythonsoftwarefoundation.python.3.9_qbz5n2kfra8p0\\localcache\\local-packages\\python39\\site-packages (6.0.2)\n",
      "Requirement already satisfied: setuptools in c:\\users\\raúl\\appdata\\local\\packages\\pythonsoftwarefoundation.python.3.9_qbz5n2kfra8p0\\localcache\\local-packages\\python39\\site-packages (from rdflib) (58.2.0)\n",
      "Requirement already satisfied: isodate in c:\\users\\raúl\\appdata\\local\\packages\\pythonsoftwarefoundation.python.3.9_qbz5n2kfra8p0\\localcache\\local-packages\\python39\\site-packages (from rdflib) (0.6.0)\n",
      "Requirement already satisfied: pyparsing in c:\\users\\raúl\\appdata\\local\\packages\\pythonsoftwarefoundation.python.3.9_qbz5n2kfra8p0\\localcache\\local-packages\\python39\\site-packages (from rdflib) (2.4.7)\n",
      "Requirement already satisfied: six in c:\\users\\raúl\\appdata\\local\\packages\\pythonsoftwarefoundation.python.3.9_qbz5n2kfra8p0\\localcache\\local-packages\\python39\\site-packages (from isodate->rdflib) (1.15.0)\n"
     ]
    },
    {
     "name": "stderr",
     "output_type": "stream",
     "text": [
      "WARNING: You are using pip version 21.2.4; however, version 21.3.1 is available.\n",
      "You should consider upgrading via the 'C:\\Users\\Raúl\\AppData\\Local\\Microsoft\\WindowsApps\\PythonSoftwareFoundation.Python.3.9_qbz5n2kfra8p0\\python.exe -m pip install --upgrade pip' command.\n"
     ]
    }
   ],
   "source": [
    "!pip install rdflib\n",
    "github_storage = \"https://raw.githubusercontent.com/AndreaCimminoArriaga/LinkedData2021-2022/main/Assignment4/\""
   ]
  },
  {
   "cell_type": "code",
   "execution_count": 221,
   "metadata": {
    "colab": {},
    "colab_type": "code",
    "id": "Jb4QeLue5NLr"
   },
   "outputs": [
    {
     "data": {
      "text/plain": [
       "<Graph identifier=Ndc477d4d311b43a6bc24690f8fdf9054 (<class 'rdflib.graph.Graph'>)>"
      ]
     },
     "execution_count": 221,
     "metadata": {},
     "output_type": "execute_result"
    }
   ],
   "source": [
    "from rdflib import Graph, Namespace, Literal, URIRef\n",
    "g1 = Graph()\n",
    "g2 = Graph()\n",
    "g3 = Graph()\n",
    "g1.parse(github_storage+\"resources/data03.rdf\", format=\"xml\")\n",
    "g2.parse(github_storage+\"resources/data04.rdf\", format=\"xml\")"
   ]
  },
  {
   "cell_type": "markdown",
   "metadata": {
    "colab_type": "text",
    "id": "5wfBZiQSU827"
   },
   "source": [
    "Busca individuos en los dos grafos y enlázalos mediante la propiedad OWL:sameAs, inserta estas coincidencias en g3. Consideramos dos individuos iguales si tienen el mismo apodo y nombre de familia. Ten en cuenta que las URI no tienen por qué ser iguales para un mismo individuo en los dos grafos."
   ]
  },
  {
   "cell_type": "code",
   "execution_count": 222,
   "metadata": {},
   "outputs": [],
   "source": [
    "from rdflib.plugins.sparql import prepareQuery\n",
    "rdf = Namespace('http://www.w3.org/1999/02/22-rdf-syntax-ns#')\n",
    "owl = Namespace('http://www.w3.org/2002/07/owl#')\n",
    "vcard = Namespace('http://www.w3.org/2001/vcard-rdf/3.0#')\n",
    "ns2 = Namespace('http://data.four.org#')\n",
    "ns1 = Namespace('http://data.three.org#')"
   ]
  },
  {
   "cell_type": "code",
   "execution_count": 223,
   "metadata": {},
   "outputs": [],
   "source": [
    "q1 = prepareQuery('''\n",
    "SELECT ?s ?Given ?Family\n",
    "WHERE { \n",
    "  ?s vcard:Given ?Given.\n",
    "  ?s vcard:Family ?Family.\n",
    "}\n",
    "  ''',\n",
    "  initNs = { \"vcard\": vcard, \"rdf\": rdf, \"ns\" : ns1}\n",
    ")\n",
    "aux1 = [result for result in g1.query(q1)]"
   ]
  },
  {
   "cell_type": "code",
   "execution_count": 224,
   "metadata": {},
   "outputs": [],
   "source": [
    "q2 = prepareQuery('''\n",
    "  SELECT ?s ?Given ?Family\n",
    "  WHERE { \n",
    "    ?s vcard:Given ?Given.\n",
    "    ?s vcard:Family ?Family.\n",
    "  }\n",
    "  ''',\n",
    "  initNs = {\"vcard\": vcard, \"rdf\": rdf, \"ns\":ns2}\n",
    ")\n",
    "aux2 = [result for result in g2.query(q2)]"
   ]
  },
  {
   "cell_type": "code",
   "execution_count": 225,
   "metadata": {},
   "outputs": [
    {
     "name": "stdout",
     "output_type": "stream",
     "text": [
      "http://data.three.org#SaraJones http://www.w3.org/2002/07/owl#sameAs http://data.four.org#0001\n",
      "http://data.three.org#JohnDoe http://www.w3.org/2002/07/owl#sameAs http://data.four.org#0005\n"
     ]
    }
   ],
   "source": [
    "for s1 in aux1:\n",
    "  for s2 in aux2:\n",
    "    if(s1.Given == s2.Given and s1.Family == s2.Family):\n",
    "      g3.add((s1.s, owl.sameAs, s2.s))\n",
    "\n",
    "for s, p, o in g3:\n",
    "  print(s,p,o)"
   ]
  }
 ],
 "metadata": {
  "colab": {
   "collapsed_sections": [],
   "name": "Task09.ipynb",
   "provenance": []
  },
  "kernelspec": {
   "display_name": "Python 3 (ipykernel)",
   "language": "python",
   "name": "python3"
  },
  "language_info": {
   "codemirror_mode": {
    "name": "ipython",
    "version": 3
   },
   "file_extension": ".py",
   "mimetype": "text/x-python",
   "name": "python",
   "nbconvert_exporter": "python",
   "pygments_lexer": "ipython3",
   "version": "3.9.7"
  }
 },
 "nbformat": 4,
 "nbformat_minor": 1
}
