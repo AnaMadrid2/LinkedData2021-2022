{
 "cells": [
  {
   "cell_type": "markdown",
   "metadata": {
    "colab_type": "text",
    "id": "nOOPLCHF7hLB"
   },
   "source": [
    "**Task 07: Querying RDF(s)**"
   ]
  },
  {
   "cell_type": "code",
   "execution_count": null,
   "metadata": {
    "colab": {},
    "colab_type": "code",
    "id": "Yl9npCt8n6m-"
   },
   "outputs": [
    {
     "name": "stdout",
     "output_type": "stream",
     "text": [
      "Requirement already satisfied: rdflib in /usr/local/anaconda3/lib/python3.9/site-packages (6.0.2)\r\n",
      "Requirement already satisfied: setuptools in /usr/local/anaconda3/lib/python3.9/site-packages (from rdflib) (58.0.4)\r\n",
      "Requirement already satisfied: isodate in /usr/local/anaconda3/lib/python3.9/site-packages (from rdflib) (0.6.0)\r\n",
      "Requirement already satisfied: pyparsing in /usr/local/anaconda3/lib/python3.9/site-packages (from rdflib) (3.0.4)\r\n",
      "Requirement already satisfied: six in /usr/local/anaconda3/lib/python3.9/site-packages (from isodate->rdflib) (1.16.0)\r\n"
     ]
    }
   ],
   "source": [
    "!pip install rdflib \n",
    "github_storage = \"https://raw.githubusercontent.com/AndreaCimminoArriaga/LinkedData2021-2022/main/Assignment4/\""
   ]
  },
  {
   "cell_type": "markdown",
   "metadata": {
    "colab_type": "text",
    "id": "XY7aPc86Bqoo"
   },
   "source": [
    "Leemos el fichero RDF de la forma que lo hemos venido haciendo"
   ]
  },
  {
   "cell_type": "code",
   "execution_count": null,
   "metadata": {
    "colab": {},
    "colab_type": "code",
    "id": "9ERh415on7kF"
   },
   "outputs": [],
   "source": [
    "from rdflib import Graph, Namespace, Literal\n",
    "from rdflib.namespace import RDF, RDFS\n",
    "g = Graph()\n",
    "g.namespace_manager.bind('ns', Namespace(\"http://somewhere#\"), override=False)\n",
    "g.namespace_manager.bind('vcard', Namespace(\"http://www.w3.org/2001/vcard-rdf/3.0#\"), override=False)\n",
    "g.parse(github_storage+\"/resources/example6.rdf\", format=\"xml\")"
   ]
  },
  {
   "cell_type": "markdown",
   "metadata": {
    "colab_type": "text",
    "id": "qp1oe2Eddsvo"
   },
   "source": [
    "**TASK 7.1: List all subclasses of \"Person\" with RDFLib and SPARQL**"
   ]
  },
  {
   "cell_type": "code",
   "execution_count": 8,
   "metadata": {},
   "outputs": [],
   "source": [
    "from rdflib.plugins.sparql import prepareQuery\n",
    "ns = Namespace(\"http://somewhere#\")\n",
    "for sujeto,predicado,objeto in g.triples((None, RDFS.subClassOf, ns.Person)):\n",
    "    print(sujeto)"
   ]
  },
  {
   "cell_type": "code",
   "execution_count": 7,
   "metadata": {},
   "outputs": [],
   "source": [
    "ns = Namespace(\"http://somewhere#\")\n",
    "q1 = prepareQuery('''\n",
    "  \n",
    "  SELECT \n",
    "    ?x\n",
    "  WHERE { \n",
    "    ?x RDFS:subClassOf ns:Person. \n",
    "  }\n",
    "  ''',\n",
    "  initNs = {\"RDFS\":RDFS, \"ns\": ns}\n",
    ")\n",
    "\n",
    "\n",
    "for i in g.query(q1):\n",
    "    print(i)\n"
   ]
  },
  {
   "cell_type": "markdown",
   "metadata": {
    "colab_type": "text",
    "id": "gM3DASkTQQ5Y"
   },
   "source": [
    "**TASK 7.2: List all individuals of \"Person\" with RDFLib and SPARQL (remember the subClasses)**\n"
   ]
  },
  {
   "cell_type": "code",
   "execution_count": 6,
   "metadata": {},
   "outputs": [
    {
     "name": "stdout",
     "output_type": "stream",
     "text": [
      "http://somewhere#SaraJones\n",
      "http://somewhere#JohnSmith\n",
      "http://somewhere#JaneSmith\n"
     ]
    }
   ],
   "source": [
    "ns = Namespace(\"http://somewhere#\")\n",
    "for sujeto,predicado,objeto in g.triples((None ,RDF.type, ns.Person)):\n",
    "        print(sujeto)\n",
    "for sujeto,predicado,objeto in g.triples((None, RDFS.subClassOf, ns.Person)):\n",
    "    for sujeto,predicado,objeto in g.triples((None ,RDF.type, sujeto)):\n",
    "        print(sujeto)"
   ]
  },
  {
   "cell_type": "code",
   "execution_count": 7,
   "metadata": {},
   "outputs": [
    {
     "name": "stdout",
     "output_type": "stream",
     "text": [
      "(rdflib.term.URIRef('http://somewhere#SaraJones'),)\n",
      "(rdflib.term.URIRef('http://somewhere#JohnSmith'),)\n",
      "(rdflib.term.URIRef('http://somewhere#JaneSmith'),)\n"
     ]
    }
   ],
   "source": [
    "ns = Namespace(\"http://somewhere#\")\n",
    "q1 = prepareQuery('''\n",
    "\n",
    "  SELECT DISTINCT\n",
    "    ?x\n",
    "  WHERE { \n",
    "    {?x a ns:Person.} UNION {?y RDFS:subClassOf ns:Person. ?x a ?y}\n",
    "  }\n",
    "  ''',\n",
    "  initNs = {\"RDFS\":RDFS, \"ns\": ns}\n",
    ")\n",
    "\n",
    "\n",
    "for i in g.query(q1):\n",
    "    print(i)"
   ]
  },
  {
   "cell_type": "markdown",
   "metadata": {
    "colab_type": "text",
    "id": "MXBqtBkJd22I"
   },
   "source": [
    "**TASK 7.3: List all individuals of \"Person\" and all their properties including their class with RDFLib and SPARQL**\n"
   ]
  },
  {
   "cell_type": "code",
   "execution_count": 15,
   "metadata": {},
   "outputs": [
    {
     "name": "stdout",
     "output_type": "stream",
     "text": [
      "http://somewhere#SaraJones http://somewhere#http://www.w3.org/2001/vcard-rdf/3.0/Given http://www.w3.org/2000/01/rdf-schema#Datatype\n",
      "http://somewhere#SaraJones http://somewhere#http://www.w3.org/2001/vcard-rdf/3.0/FN http://www.w3.org/2000/01/rdf-schema#Datatype\n",
      "http://somewhere#SaraJones http://somewhere#http://www.w3.org/2001/vcard-rdf/3.0/Family http://www.w3.org/2000/01/rdf-schema#Property\n",
      "http://somewhere#JohnSmith http://somewhere#http://www.w3.org/2001/vcard-rdf/3.0/Given http://www.w3.org/2000/01/rdf-schema#Datatype\n",
      "http://somewhere#JohnSmith http://somewhere#http://www.w3.org/2001/vcard-rdf/3.0/FN http://www.w3.org/2000/01/rdf-schema#Datatype\n",
      "http://somewhere#JohnSmith http://somewhere#http://www.w3.org/2001/vcard-rdf/3.0/Family http://www.w3.org/2000/01/rdf-schema#Property\n",
      "http://somewhere#JaneSmith http://somewhere#http://www.w3.org/2001/vcard-rdf/3.0/Given http://www.w3.org/2000/01/rdf-schema#Datatype\n",
      "http://somewhere#JaneSmith http://somewhere#http://www.w3.org/2001/vcard-rdf/3.0/FN http://www.w3.org/2000/01/rdf-schema#Datatype\n",
      "http://somewhere#JaneSmith http://somewhere#http://www.w3.org/2001/vcard-rdf/3.0/Family http://www.w3.org/2000/01/rdf-schema#Property\n"
     ]
    }
   ],
   "source": [
    "ns = Namespace(\"http://somewhere#\")\n",
    "for individuals,predicado,objeto in g.triples((None, RDF.type, ns.Person)):\n",
    "    for sujeto,properties,objeto in g.triples((individuals, None, None)):\n",
    "        for sujeto,objeto,classes in g.triples((properties, RDF.type, None)):\n",
    "            print(individuals,properties,classes)\n",
    "for subclass,predicado,objeto in g.triples((None, RDFS.subClassOf, ns.Person)):\n",
    "    for individuals,predicado,objeto in g.triples((None ,RDF.type, subclass)):\n",
    "        for y,properties,objeto in g.triples((individuals, None, None)):\n",
    "            for sujeto,predicado,classes in g.triples((properties, RDF.type, None)):\n",
    "                print(individuals,properties,classes)\n"
   ]
  },
  {
   "cell_type": "code",
   "execution_count": 21,
   "metadata": {},
   "outputs": [
    {
     "name": "stdout",
     "output_type": "stream",
     "text": [
      "(None, rdflib.term.URIRef('http://somewhere#http://www.w3.org/2001/vcard-rdf/3.0/FN'), rdflib.term.URIRef('http://www.w3.org/2000/01/rdf-schema#Datatype'))\n",
      "(None, rdflib.term.URIRef('http://somewhere#http://www.w3.org/2001/vcard-rdf/3.0/Given'), rdflib.term.URIRef('http://www.w3.org/2000/01/rdf-schema#Datatype'))\n",
      "(None, rdflib.term.URIRef('http://somewhere#http://www.w3.org/2001/vcard-rdf/3.0/Family'), rdflib.term.URIRef('http://www.w3.org/2000/01/rdf-schema#Property'))\n",
      "(None, rdflib.term.URIRef('http://somewhere#http://www.w3.org/2001/vcard-rdf/3.0/FN'), rdflib.term.URIRef('http://www.w3.org/2000/01/rdf-schema#Datatype'))\n",
      "(None, rdflib.term.URIRef('http://somewhere#http://www.w3.org/2001/vcard-rdf/3.0/Given'), rdflib.term.URIRef('http://www.w3.org/2000/01/rdf-schema#Datatype'))\n",
      "(None, rdflib.term.URIRef('http://somewhere#http://www.w3.org/2001/vcard-rdf/3.0/Family'), rdflib.term.URIRef('http://www.w3.org/2000/01/rdf-schema#Property'))\n",
      "(None, rdflib.term.URIRef('http://somewhere#http://www.w3.org/2001/vcard-rdf/3.0/FN'), rdflib.term.URIRef('http://www.w3.org/2000/01/rdf-schema#Datatype'))\n",
      "(None, rdflib.term.URIRef('http://somewhere#http://www.w3.org/2001/vcard-rdf/3.0/Given'), rdflib.term.URIRef('http://www.w3.org/2000/01/rdf-schema#Datatype'))\n",
      "(None, rdflib.term.URIRef('http://somewhere#http://www.w3.org/2001/vcard-rdf/3.0/Family'), rdflib.term.URIRef('http://www.w3.org/2000/01/rdf-schema#Property'))\n"
     ]
    }
   ],
   "source": [
    "from rdflib.plugins.sparql import prepareQuery\n",
    "\n",
    "\n",
    "ns = Namespace(\"http://somewhere#\")\n",
    "\n",
    "\n",
    "q1 = prepareQuery('''\n",
    "  \n",
    "  SELECT DISTINCT\n",
    "    ?individuals ?properties \n",
    "  WHERE {\n",
    "    {?individuals a ns:Person.\n",
    "     ?individuals ?properties ?x.\n",
    "     ?properties a ?class.} \n",
    "     UNION\n",
    "     {?subclass RDFS:subClassOf ns:Person.\n",
    "      ?individuals a ?subclass.\n",
    "      ?individuals ?properties ?y.\n",
    "      ?properties a ?class}\n",
    "  }\n",
    "  ''',\n",
    "  initNs = {\"RDFS\":RDFS, \"ns\": ns}\n",
    ")\n",
    "\n",
    "\n",
    "for i in g.query(q1):\n",
    "    print(i)"
   ]
  },
  {
   "cell_type": "code",
   "execution_count": null,
   "metadata": {},
   "outputs": [],
   "source": []
  }
 ],
 "metadata": {
  "colab": {
   "collapsed_sections": [],
   "name": "Task07.ipynb",
   "provenance": []
  },
  "kernelspec": {
   "display_name": "Python 3 (ipykernel)",
   "language": "python",
   "name": "python3"
  },
  "language_info": {
   "codemirror_mode": {
    "name": "ipython",
    "version": 3
   },
   "file_extension": ".py",
   "mimetype": "text/x-python",
   "name": "python",
   "nbconvert_exporter": "python",
   "pygments_lexer": "ipython3",
   "version": "3.9.7"
  }
 },
 "nbformat": 4,
 "nbformat_minor": 1
}
