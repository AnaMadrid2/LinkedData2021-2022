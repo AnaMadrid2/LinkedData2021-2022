{
 "cells": [
  {
   "cell_type": "markdown",
   "metadata": {
    "id": "nOOPLCHF7hLB"
   },
   "source": [
    "**Task 07: Querying RDF(s)**"
   ]
  },
  {
   "cell_type": "code",
   "execution_count": 11,
   "metadata": {
    "colab": {
     "base_uri": "https://localhost:8080/"
    },
    "id": "Yl9npCt8n6m-",
    "outputId": "52dca05f-291a-4488-984f-b9380c1a6ee9"
   },
   "outputs": [
    {
     "name": "stdout",
     "output_type": "stream",
     "text": [
      "Requirement already satisfied: rdflib in /usr/local/lib/python3.7/dist-packages (6.0.2)\n",
      "Requirement already satisfied: setuptools in /usr/local/lib/python3.7/dist-packages (from rdflib) (57.4.0)\n",
      "Requirement already satisfied: pyparsing in /usr/local/lib/python3.7/dist-packages (from rdflib) (2.4.7)\n",
      "Requirement already satisfied: isodate in /usr/local/lib/python3.7/dist-packages (from rdflib) (0.6.0)\n",
      "Requirement already satisfied: six in /usr/local/lib/python3.7/dist-packages (from isodate->rdflib) (1.15.0)\n"
     ]
    }
   ],
   "source": [
    "!pip install rdflib \n",
    "github_storage = \"https://raw.githubusercontent.com/AndreaCimminoArriaga/LinkedData2021-2022/main/Assignment4/\""
   ]
  },
  {
   "cell_type": "markdown",
   "metadata": {
    "id": "XY7aPc86Bqoo"
   },
   "source": [
    "Leemos el fichero RDF de la forma que lo hemos venido haciendo"
   ]
  },
  {
   "cell_type": "code",
   "execution_count": 12,
   "metadata": {
    "colab": {
     "base_uri": "https://localhost:8080/"
    },
    "id": "9ERh415on7kF",
    "outputId": "df28a90f-5f8a-4bcc-b74b-aae0ebe0b11b"
   },
   "outputs": [
    {
     "data": {
      "text/plain": [
       "<Graph identifier=N49f80b221652428d88cec575fee34dd1 (<class 'rdflib.graph.Graph'>)>"
      ]
     },
     "execution_count": 12,
     "metadata": {},
     "output_type": "execute_result"
    }
   ],
   "source": [
    "from rdflib import Graph, Namespace, Literal\n",
    "from rdflib.namespace import RDF, RDFS\n",
    "g = Graph()\n",
    "g.namespace_manager.bind('ns', Namespace(\"http://somewhere#\"), override=False)\n",
    "g.namespace_manager.bind('vcard', Namespace(\"http://www.w3.org/2001/vcard-rdf/3.0#\"), override=False)\n",
    "g.parse(github_storage+\"/resources/example6.rdf\", format=\"xml\")"
   ]
  },
  {
   "cell_type": "markdown",
   "metadata": {
    "id": "qp1oe2Eddsvo"
   },
   "source": [
    "**TASK 7.1: List all subclasses of \"Person\" with RDFLib and SPARQL**"
   ]
  },
  {
   "cell_type": "code",
   "execution_count": 13,
   "metadata": {
    "colab": {
     "base_uri": "https://localhost:8080/"
    },
    "id": "qWwml3HG32qQ",
    "outputId": "69e0ee40-abd1-446f-90d0-177cc2b2f9c0"
   },
   "outputs": [
    {
     "name": "stdout",
     "output_type": "stream",
     "text": [
      "http://somewhere#Researcher\n",
      "(rdflib.term.URIRef('http://somewhere#Researcher'),)\n"
     ]
    }
   ],
   "source": [
    "from rdflib.plugins.sparql import prepareQuery\n",
    "\n",
    "VCARD = Namespace(\"http://www.w3.org/2001/vcard-rdf/3.0#\")                # definimos ya los Namespaces del grafo por si tenemos que llamarlos más tarde\n",
    "ns = Namespace(\"http://somewhere#\")\n",
    "\n",
    "for s, p, o in g.triples((None, RDFS.subClassOf, ns.Person)):\n",
    "    print(s)\n",
    "\n",
    "# SPARQL\n",
    "\n",
    "q1 = prepareQuery('''\n",
    "  SELECT \n",
    "    ?s\n",
    "  WHERE { \n",
    "    ?s rdfs:subClassOf ns:Person.\n",
    "  }\n",
    "  ''',\n",
    "  initNs = { \"rdfs\": RDFS, \"ns\": ns}\n",
    ")\n",
    "\n",
    "\n",
    "for r in g.query(q1):                                                \n",
    "  print(r)"
   ]
  },
  {
   "cell_type": "markdown",
   "metadata": {
    "id": "gM3DASkTQQ5Y"
   },
   "source": [
    "**TASK 7.2: List all individuals of \"Person\" with RDFLib and SPARQL (remember the subClasses)**\n"
   ]
  },
  {
   "cell_type": "code",
   "execution_count": 14,
   "metadata": {
    "colab": {
     "base_uri": "https://localhost:8080/"
    },
    "id": "kTrkbZuBRlJn",
    "outputId": "a2ca425c-d620-4d20-f8ea-cd972179b385"
   },
   "outputs": [
    {
     "name": "stdout",
     "output_type": "stream",
     "text": [
      "http://somewhere#SaraJones\n",
      "http://somewhere#JohnSmith\n",
      "http://somewhere#JaneSmith\n",
      "\n",
      "\n",
      "SPARQL\n",
      "\n",
      "\n",
      "(rdflib.term.URIRef('http://somewhere#SaraJones'),)\n",
      "(rdflib.term.URIRef('http://somewhere#JohnSmith'),)\n",
      "(rdflib.term.URIRef('http://somewhere#JaneSmith'),)\n"
     ]
    }
   ],
   "source": [
    "for s, p, o in g.triples((None, RDF.type, None)):\n",
    "  if o == ns.Person or ((o, RDFS.subClassOf, ns.Person) in g):\n",
    "    print(s)\n",
    "\n",
    "# SPARQL\n",
    "print('\\n')\n",
    "print('SPARQL')\n",
    "print('\\n')\n",
    "\n",
    "q2 = prepareQuery('''\n",
    "  SELECT\n",
    "    ?o\n",
    "  WHERE {\n",
    "    ?o rdf:type ns:Person.\n",
    "  }\n",
    "  ''',\n",
    "  initNs = { \"rdf\": RDF, \"ns\": ns}\n",
    ")\n",
    "\n",
    "\n",
    "q3 = prepareQuery('''\n",
    "  SELECT\n",
    "    ?o                                   \n",
    "  WHERE {\n",
    "    ?s rdfs:subClassOf ns:Person.\n",
    "    ?o rdf:type ?s\n",
    "  }\n",
    "  ''',\n",
    "  initNs = { \"rdfs\": RDFS, \"ns\": ns}\n",
    ")\n",
    "\n",
    "\n",
    "for r in g.query(q2):    # devuelve los individuos que son de la clase Person\n",
    "  print(r)\n",
    "\n",
    "for s in g.query(q3):    # devuelve los individuos de las subclases de Person\n",
    "  print(s)"
   ]
  },
  {
   "cell_type": "markdown",
   "metadata": {
    "id": "MXBqtBkJd22I"
   },
   "source": [
    "**TASK 7.3: List all individuals of \"Person\" and all their properties including their class with RDFLib and SPARQL**\n"
   ]
  },
  {
   "cell_type": "code",
   "execution_count": 15,
   "metadata": {
    "colab": {
     "base_uri": "https://localhost:8080/"
    },
    "id": "74coxyec33wR",
    "outputId": "e7182ef0-3b99-448f-8f76-22f31a3eaa20"
   },
   "outputs": [
    {
     "name": "stdout",
     "output_type": "stream",
     "text": [
      "\n",
      "\n",
      "http://somewhere#SaraJones su clase es: http://somewhere#Person\n",
      "http://www.w3.org/1999/02/22-rdf-syntax-ns#type\n",
      "http://somewhere#http://www.w3.org/2001/vcard-rdf/3.0/Given\n",
      "http://somewhere#http://www.w3.org/2001/vcard-rdf/3.0/FN\n",
      "http://somewhere#http://www.w3.org/2001/vcard-rdf/3.0/Family\n",
      "\n",
      "\n",
      "http://somewhere#JohnSmith su clase es: http://somewhere#Person\n",
      "http://www.w3.org/1999/02/22-rdf-syntax-ns#type\n",
      "http://somewhere#http://www.w3.org/2001/vcard-rdf/3.0/Given\n",
      "http://somewhere#http://www.w3.org/2001/vcard-rdf/3.0/FN\n",
      "http://somewhere#http://www.w3.org/2001/vcard-rdf/3.0/Family\n",
      "\n",
      "\n",
      "http://somewhere#JaneSmith su clase es: http://somewhere#Researcher\n",
      "http://www.w3.org/1999/02/22-rdf-syntax-ns#type\n",
      "http://somewhere#http://www.w3.org/2001/vcard-rdf/3.0/Given\n",
      "http://somewhere#http://www.w3.org/2001/vcard-rdf/3.0/FN\n",
      "http://somewhere#http://www.w3.org/2001/vcard-rdf/3.0/Family\n",
      "\n",
      "\n",
      "SPARQL\n",
      "\n",
      "\n",
      "(rdflib.term.URIRef('http://somewhere#SaraJones'),)\n",
      "(rdflib.term.URIRef('http://somewhere#JohnSmith'),)\n",
      "(rdflib.term.URIRef('http://somewhere#JaneSmith'),)\n",
      "\n",
      "\n",
      "(rdflib.term.URIRef('http://www.w3.org/1999/02/22-rdf-syntax-ns#type'),)\n",
      "(rdflib.term.URIRef('http://somewhere#http://www.w3.org/2001/vcard-rdf/3.0/Given'),)\n",
      "(rdflib.term.URIRef('http://somewhere#http://www.w3.org/2001/vcard-rdf/3.0/FN'),)\n",
      "(rdflib.term.URIRef('http://somewhere#http://www.w3.org/2001/vcard-rdf/3.0/Family'),)\n",
      "(rdflib.term.URIRef('http://www.w3.org/1999/02/22-rdf-syntax-ns#type'),)\n",
      "(rdflib.term.URIRef('http://somewhere#http://www.w3.org/2001/vcard-rdf/3.0/Given'),)\n",
      "(rdflib.term.URIRef('http://somewhere#http://www.w3.org/2001/vcard-rdf/3.0/FN'),)\n",
      "(rdflib.term.URIRef('http://somewhere#http://www.w3.org/2001/vcard-rdf/3.0/Family'),)\n",
      "(rdflib.term.URIRef('http://www.w3.org/1999/02/22-rdf-syntax-ns#type'),)\n",
      "(rdflib.term.URIRef('http://somewhere#http://www.w3.org/2001/vcard-rdf/3.0/Given'),)\n",
      "(rdflib.term.URIRef('http://somewhere#http://www.w3.org/2001/vcard-rdf/3.0/FN'),)\n",
      "(rdflib.term.URIRef('http://somewhere#http://www.w3.org/2001/vcard-rdf/3.0/Family'),)\n",
      "\n",
      "\n",
      "(rdflib.term.URIRef('http://somewhere#Person'),)\n",
      "(rdflib.term.URIRef('http://somewhere#Person'),)\n",
      "(rdflib.term.URIRef('http://somewhere#Researcher'),)\n"
     ]
    }
   ],
   "source": [
    "for s, p, o in g.triples((None, RDF.type, None)):                 \n",
    "  if o == ns.Person or ((o, RDFS.subClassOf, ns.Person) in g):    # Busca todos los individuos de Person y su clase\n",
    "    print('\\n')\n",
    "    print(s, 'su clase es:' ,o)\n",
    "    for suj, pre, obj in g.triples((s, None, None)):              # busca todas las propiedades de cada individuo\n",
    "      print(pre)\n",
    "\n",
    "# SPARQL\n",
    "\n",
    "print('\\n')\n",
    "print('SPARQL')\n",
    "print('\\n')\n",
    "\n",
    "q4 = prepareQuery('''                                             \n",
    "  SELECT\n",
    "    ?o\n",
    "  WHERE {\n",
    "    {?o rdf:type ns:Person.}\n",
    "    UNION\n",
    "    {?s rdfs:subClassOf ns:Person.\n",
    "    ?o rdf:type ?s}\n",
    "  }\n",
    "  ''',\n",
    "  initNs = { \"rdf\": RDF, \"rdfs\": RDFS, \"ns\": ns}\n",
    ")\n",
    "\n",
    "\n",
    "for r in g.query(q4):                                             # Devuelve los individuos de persona\n",
    "  print(r)\n",
    "\n",
    "print('\\n')\n",
    "\n",
    "q5 = prepareQuery('''\n",
    "  SELECT\n",
    "    ?p\n",
    "  WHERE {\n",
    "    {?s rdf:type ns:Person.\n",
    "    ?s ?p ?o.}\n",
    "    UNION\n",
    "    {?s rdfs:subClassOf ns:Person.\n",
    "     ?o rdf:type ?s.\n",
    "     ?o ?p ?a}\n",
    "  }\n",
    "  ''',\n",
    "  initNs = { \"rdf\": RDF, \"ns\": ns}\n",
    ")\n",
    "\n",
    "for r in g.query(q5):                                            # devuelve las propiedades de los individuos\n",
    "  print(r)\n",
    "\n",
    "print('\\n')\n",
    "\n",
    "\n",
    "q6 = prepareQuery('''\n",
    "  SELECT\n",
    "    ?s\n",
    "  WHERE {\n",
    "    {?o rdf:type ns:Person.\n",
    "     ?o rdf:type ?s}\n",
    "    UNION\n",
    "    {?s rdfs:subClassOf ns:Person.\n",
    "    ?o rdf:type ?s}\n",
    "  }\n",
    "  ''',\n",
    "  initNs = { \"rdfs\": RDFS, \"ns\": ns}\n",
    ")\n",
    "\n",
    "for r in g.query(q6):                                             # devuelve la clase de cada individuo\n",
    "  print(r)"
   ]
  }
 ],
 "metadata": {
  "colab": {
   "collapsed_sections": [],
   "name": "Task07.ipynb",
   "provenance": []
  },
  "kernelspec": {
   "display_name": "Python 3 (ipykernel)",
   "language": "python",
   "name": "python3"
  },
  "language_info": {
   "codemirror_mode": {
    "name": "ipython",
    "version": 3
   },
   "file_extension": ".py",
   "mimetype": "text/x-python",
   "name": "python",
   "nbconvert_exporter": "python",
   "pygments_lexer": "ipython3",
   "version": "3.9.7"
  }
 },
 "nbformat": 4,
 "nbformat_minor": 1
}
