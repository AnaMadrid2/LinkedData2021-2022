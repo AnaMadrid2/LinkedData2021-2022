{
 "cells": [
  {
   "cell_type": "markdown",
   "metadata": {
    "id": "wIhJ69byU2Ad"
   },
   "source": [
    "**Task 09: Data linking**"
   ]
  },
  {
   "cell_type": "code",
   "execution_count": 108,
   "metadata": {
    "colab": {
     "base_uri": "https://localhost:8080/"
    },
    "id": "0sQG2Y915Isp",
    "outputId": "dc659187-6865-4f80-f1c1-94f9e848d006"
   },
   "outputs": [
    {
     "name": "stdout",
     "output_type": "stream",
     "text": [
      "Requirement already satisfied: rdflib in /usr/local/lib/python3.7/dist-packages (6.0.2)\n",
      "Requirement already satisfied: pyparsing in /usr/local/lib/python3.7/dist-packages (from rdflib) (2.4.7)\n",
      "Requirement already satisfied: isodate in /usr/local/lib/python3.7/dist-packages (from rdflib) (0.6.0)\n",
      "Requirement already satisfied: setuptools in /usr/local/lib/python3.7/dist-packages (from rdflib) (57.4.0)\n",
      "Requirement already satisfied: six in /usr/local/lib/python3.7/dist-packages (from isodate->rdflib) (1.15.0)\n"
     ]
    }
   ],
   "source": [
    "!pip install rdflib\n",
    "github_storage = \"https://raw.githubusercontent.com/AndreaCimminoArriaga/LinkedData2021-2022/main/Assignment4/\""
   ]
  },
  {
   "cell_type": "code",
   "execution_count": 109,
   "metadata": {
    "colab": {
     "base_uri": "https://localhost:8080/"
    },
    "id": "Jb4QeLue5NLr",
    "outputId": "05d76d2f-e351-478f-8e28-fe14ad4ad558"
   },
   "outputs": [
    {
     "data": {
      "text/plain": [
       "<Graph identifier=N6e90155098eb4871b2cddd1038210a31 (<class 'rdflib.graph.Graph'>)>"
      ]
     },
     "execution_count": 109,
     "metadata": {},
     "output_type": "execute_result"
    }
   ],
   "source": [
    "from rdflib import Graph, Namespace, Literal, URIRef\n",
    "g1 = Graph()\n",
    "g2 = Graph()\n",
    "g3 = Graph()\n",
    "g1.parse(github_storage+\"resources/data03.rdf\", format=\"xml\")\n",
    "g2.parse(github_storage+\"resources/data04.rdf\", format=\"xml\")"
   ]
  },
  {
   "cell_type": "markdown",
   "metadata": {
    "id": "5wfBZiQSU827"
   },
   "source": [
    "Busca individuos en los dos grafos y enlázalos mediante la propiedad OWL:sameAs, inserta estas coincidencias en g3. Consideramos dos individuos iguales si tienen el mismo apodo y nombre de familia. Ten en cuenta que las URI no tienen por qué ser iguales para un mismo individuo en los dos grafos."
   ]
  },
  {
   "cell_type": "code",
   "execution_count": 110,
   "metadata": {
    "colab": {
     "base_uri": "https://localhost:8080/"
    },
    "id": "dv9EpyF-kahi",
    "outputId": "b72c56ae-28b0-4a1c-832b-78ba56f1d6d0"
   },
   "outputs": [
    {
     "name": "stdout",
     "output_type": "stream",
     "text": [
      "http://data.three.org#HarryPotter http://www.w3.org/2002/07/owl#sameAs http://data.four.org#0003\n",
      "http://data.three.org#SaraJones http://www.w3.org/2002/07/owl#sameAs http://data.four.org#0001\n",
      "http://data.three.org#JohnDoe http://www.w3.org/2002/07/owl#sameAs http://data.four.org#0005\n"
     ]
    }
   ],
   "source": [
    "from rdflib.namespace import RDF, RDFS, OWL\n",
    "\n",
    "ns1 = Namespace(\"http://data.three.org#\")\n",
    "ns2 = Namespace(\"http://data.four.org#\")\n",
    "VCARD = Namespace(\"http://www.w3.org/2001/vcard-rdf/3.0#\")\n",
    "\n",
    "list1 = list()\n",
    "list2 = list()\n",
    "\n",
    "list_aux1 = list()\n",
    "list_aux2 = list()\n",
    "\n",
    "for s, p, o in g1.triples((None, RDF.type, None)):                        # busca los individuos de g1\n",
    "  if o == ns1.Person or ((o, RDFS.subClassOf, ns1.Person) in g1):\n",
    "    list1.append(s)\n",
    "\n",
    "for s, p, o in g2.triples((None, RDF.type, None)):                        # busca los individuos de g2\n",
    "  if o == ns2.Person or ((o, RDFS.subClassOf, ns2.Person) in g2):\n",
    "    list2.append(s)\n",
    "\n",
    "for i in list1:                                                           # compara si los individuos tienen el mismo apodo y nombre de familia\n",
    "  for j in list2:\n",
    "\n",
    "    for s, p, o in g1.triples((i, None, None)):                           # por cada tripleta de g1 con i\n",
    "      for suj, pre, obj in g2.triples((j, None, None)):                   # por cada tripleta de g2 con j\n",
    "        if (p == VCARD.FN and pre == VCARD.FN) and o == obj:                             # si comparten el mismo nombre de familia\n",
    "          list_aux1.append((i, j))                                        # añadir a list_aux1 una tupla con ambos valores i y j\n",
    "\n",
    "        if (p == VCARD.Given and pre == VCARD.Given) and o == obj:                       # si comparten el mismo apodo\n",
    "          list_aux2.append((i, j))                                        # añadir a list_aux2 una tupla con ambos valores i y j\n",
    "\n",
    "\n",
    "        for x in list_aux1:\n",
    "          for y in list_aux2:\n",
    "            if x == y:\n",
    "              g3.add((x[0], OWL.sameAs, x[1]))\n",
    "\n",
    "for s, p, o in g3:\n",
    "  print(s, p, o)\n"
   ]
  }
 ],
 "metadata": {
  "colab": {
   "collapsed_sections": [],
   "name": "Task09.ipynb",
   "provenance": []
  },
  "kernelspec": {
   "display_name": "Python 3 (ipykernel)",
   "language": "python",
   "name": "python3"
  },
  "language_info": {
   "codemirror_mode": {
    "name": "ipython",
    "version": 3
   },
   "file_extension": ".py",
   "mimetype": "text/x-python",
   "name": "python",
   "nbconvert_exporter": "python",
   "pygments_lexer": "ipython3",
   "version": "3.9.7"
  }
 },
 "nbformat": 4,
 "nbformat_minor": 1
}
