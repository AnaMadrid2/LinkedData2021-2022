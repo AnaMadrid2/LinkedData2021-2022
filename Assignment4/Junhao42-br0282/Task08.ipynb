{
 "cells": [
  {
   "cell_type": "markdown",
   "metadata": {
    "id": "rb2ewz-dC6GC"
   },
   "source": [
    "**Task 08: Completing missing data**"
   ]
  },
  {
   "cell_type": "code",
   "execution_count": 44,
   "metadata": {
    "colab": {
     "base_uri": "https://localhost:8080/"
    },
    "id": "0sQG2Y915Isp",
    "outputId": "55d2b8f7-68bc-4afa-a604-b1e91ef72c0c"
   },
   "outputs": [
    {
     "name": "stdout",
     "output_type": "stream",
     "text": [
      "Requirement already satisfied: rdflib in /usr/local/lib/python3.7/dist-packages (6.0.2)\n",
      "Requirement already satisfied: setuptools in /usr/local/lib/python3.7/dist-packages (from rdflib) (57.4.0)\n",
      "Requirement already satisfied: isodate in /usr/local/lib/python3.7/dist-packages (from rdflib) (0.6.0)\n",
      "Requirement already satisfied: pyparsing in /usr/local/lib/python3.7/dist-packages (from rdflib) (2.4.7)\n",
      "Requirement already satisfied: six in /usr/local/lib/python3.7/dist-packages (from isodate->rdflib) (1.15.0)\n"
     ]
    }
   ],
   "source": [
    "!pip install rdflib\n",
    "github_storage = \"https://raw.githubusercontent.com/AndreaCimminoArriaga/LinkedData2021-2022/main/Assignment4/\""
   ]
  },
  {
   "cell_type": "code",
   "execution_count": 45,
   "metadata": {
    "colab": {
     "base_uri": "https://localhost:8080/"
    },
    "id": "Jb4QeLue5NLr",
    "outputId": "595f0a98-1778-4e64-b4c6-ce6ecdf7df81"
   },
   "outputs": [
    {
     "data": {
      "text/plain": [
       "<Graph identifier=Nb58f577c2f70451782afa20f0be08c78 (<class 'rdflib.graph.Graph'>)>"
      ]
     },
     "execution_count": 45,
     "metadata": {},
     "output_type": "execute_result"
    }
   ],
   "source": [
    "from rdflib import Graph, Namespace, Literal, URIRef\n",
    "g1 = Graph()\n",
    "g2 = Graph()\n",
    "g1.parse(github_storage+\"resources/data01.rdf\", format=\"xml\")\n",
    "g2.parse(github_storage+\"resources/data02.rdf\", format=\"xml\")"
   ]
  },
  {
   "cell_type": "markdown",
   "metadata": {
    "id": "kxxKghwBElOm"
   },
   "source": [
    "Tarea: lista todos los elementos de la clase Person en el primer grafo (data01.rdf) y completa los campos (given name, family name y email) que puedan faltar con los datos del segundo grafo (data02.rdf). Puedes usar consultas SPARQL o iterar el grafo, o ambas cosas."
   ]
  },
  {
   "cell_type": "code",
   "execution_count": 46,
   "metadata": {
    "colab": {
     "base_uri": "https://localhost:8080/"
    },
    "id": "fuv17SlTctXU",
    "outputId": "1a4bfd48-832e-4ff8-8a23-5989e394e0db"
   },
   "outputs": [
    {
     "name": "stdout",
     "output_type": "stream",
     "text": [
      "John\n",
      "j.smith@data.org\n",
      "doe@data.org\n",
      "Doe\n",
      "Harry\n",
      "Potter\n",
      "http://data.org#SaraJones http://www.w3.org/2001/vcard-rdf/3.0#EMAIL sara.jones@data.org\n",
      "http://data.org#HarryPotter http://www.w3.org/2001/vcard-rdf/3.0#EMAIL hpotter@hogwarts.org\n",
      "http://data.org#SaraJones http://www.w3.org/2001/vcard-rdf/3.0#Given Sara\n",
      "http://data.org#JohnDoe http://www.w3.org/2001/vcard-rdf/3.0#Given John\n",
      "http://data.org#SaraJones http://www.w3.org/1999/02/22-rdf-syntax-ns#type http://data.org#Person\n",
      "http://www.w3.org/2001/vcard-rdf/3.0#Given http://www.w3.org/2000/01/rdf-schema#range http://www.w3.org/2001/XMLSchema#string\n",
      "http://data.org#JohnDoe http://www.w3.org/2001/vcard-rdf/3.0#EMAIL doe@data.org\n",
      "http://data.org#HarryPotter http://www.w3.org/2001/vcard-rdf/3.0#Given Harry\n",
      "http://data.org#Person http://www.w3.org/1999/02/22-rdf-syntax-ns#type http://www.w3.org/2000/01/rdf-schema#Class\n",
      "http://data.org#JohnSmith http://www.w3.org/2001/vcard-rdf/3.0#Given John\n",
      "http://data.org#SaraJones http://www.w3.org/2001/vcard-rdf/3.0#Family Jones\n",
      "http://data.org#JohnSmith http://www.w3.org/2001/vcard-rdf/3.0#Family Smith\n",
      "http://www.w3.org/2001/vcard-rdf/3.0#Family http://www.w3.org/2000/01/rdf-schema#range http://www.w3.org/2001/XMLSchema#string\n",
      "http://www.w3.org/2001/vcard-rdf/3.0#Family http://www.w3.org/1999/02/22-rdf-syntax-ns#type http://www.w3.org/2000/01/rdf-schema#Property\n",
      "http://data.org#JohnSmith http://www.w3.org/2001/vcard-rdf/3.0#EMAIL j.smith@data.org\n",
      "http://data.org#JohnSmith http://www.w3.org/1999/02/22-rdf-syntax-ns#type http://data.org#Person\n",
      "http://data.org#HarryPotter http://www.w3.org/2001/vcard-rdf/3.0#Family Potter\n",
      "http://www.w3.org/2001/vcard-rdf/3.0#Given http://www.w3.org/1999/02/22-rdf-syntax-ns#type http://www.w3.org/2000/01/rdf-schema#Datatype\n",
      "http://data.org#HarryPotter http://www.w3.org/1999/02/22-rdf-syntax-ns#type http://data.org#Person\n",
      "http://data.org#JohnDoe http://www.w3.org/2001/vcard-rdf/3.0#Family Doe\n",
      "http://www.w3.org/2001/vcard-rdf/3.0#EMAIL http://www.w3.org/1999/02/22-rdf-syntax-ns#type http://www.w3.org/2000/01/rdf-schema#Datatype\n",
      "http://www.w3.org/2001/vcard-rdf/3.0#EMAIL http://www.w3.org/2000/01/rdf-schema#range http://www.w3.org/2001/XMLSchema#string\n",
      "http://data.org#JohnDoe http://www.w3.org/1999/02/22-rdf-syntax-ns#type http://data.org#Person\n",
      "http://data.org#HarryPotter http://www.w3.org/2001/vcard-rdf/3.0#FN Harry Potter\n"
     ]
    }
   ],
   "source": [
    "from rdflib.namespace import RDF, RDFS\n",
    "\n",
    "VCARD = Namespace(\"http://www.w3.org/2001/vcard-rdf/3.0#\")                # definimos ya los Namespaces del grafo por si tenemos que llamarlos más tarde\n",
    "ns = Namespace(\"http://data.org#\")\n",
    "\n",
    "\n",
    "for s, p, o in g1.triples((None, RDF.type, None)):                        # devuelve todos los elementos de la Clase Person\n",
    "  if o == ns.Person or ((o, RDFS.subClassOf, ns.Person) in g1):\n",
    "    for suj, pre, obj in g1.triples((s, None, None)):\n",
    "      if pre != RDF.type:\n",
    "        print(obj)\n",
    "\n",
    "    for suj, pre, obj in g1.triples((s, None, None)):                     # completa los campos faltantes de los individuos en g1 que están en g2\n",
    "      for tripleta in g2.triples((s, None, None)):\n",
    "        if tripleta not in g1.triples((None, None, None)):\n",
    "          g1.add((tripleta))\n",
    "\n",
    "for s, p, o in g1:\n",
    "  print(s, p, o)"
   ]
  }
 ],
 "metadata": {
  "colab": {
   "collapsed_sections": [],
   "name": "Task08.ipynb",
   "provenance": []
  },
  "kernelspec": {
   "display_name": "Python 3 (ipykernel)",
   "language": "python",
   "name": "python3"
  },
  "language_info": {
   "codemirror_mode": {
    "name": "ipython",
    "version": 3
   },
   "file_extension": ".py",
   "mimetype": "text/x-python",
   "name": "python",
   "nbconvert_exporter": "python",
   "pygments_lexer": "ipython3",
   "version": "3.9.7"
  }
 },
 "nbformat": 4,
 "nbformat_minor": 1
}
